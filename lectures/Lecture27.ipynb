{
 "cells": [
  {
   "cell_type": "markdown",
   "metadata": {
    "slideshow": {
     "slide_type": "slide"
    }
   },
   "source": [
    "# Lecture 27: Process control, multiprocessing, and fast code\n",
    "\n",
    "CBIO (CSCI) 4835/6835: Introduction to Computational Biology"
   ]
  },
  {
   "cell_type": "markdown",
   "metadata": {
    "slideshow": {
     "slide_type": "slide"
    }
   },
   "source": [
    "## Overview and Objectives\n",
    "\n",
    "As a final lecture, we'll go over how to extend the reach of your Python code beyond the confines of the script itself and interact with the computer and other programs. Additionally, we'll look at ways of speeding up your Python code. By the end of this lecture, you should be able to:\n",
    "\n",
    " - Implement entire pipelines of Python and external programs, using Python as the \"glue\"\n",
    " - Use `subprocess` to invoke arbitrary external programs\n",
    " - Reroute input and output to go through Python, and understand the issues that arise\n",
    " - Explain the *Dining Philosophers* problem in the context of multiprocessing\n",
    " - Use the multiprocessing and joblib libraries to write embarrassingly parallel code\n",
    " - Use the numba library to speed up computation-heavy code"
   ]
  },
  {
   "cell_type": "markdown",
   "metadata": {
    "slideshow": {
     "slide_type": "slide"
    }
   },
   "source": [
    "## Part 1: Going outside the [Python] box"
   ]
  },
  {
   "cell_type": "markdown",
   "metadata": {},
   "source": [
    "Python has lots of tools and packages to help you perform whatever analysis or function you want to do."
   ]
  },
  {
   "cell_type": "markdown",
   "metadata": {},
   "source": [
    "But sometimes you need to integrate with programs that don't have a Python interface."
   ]
  },
  {
   "cell_type": "markdown",
   "metadata": {},
   "source": [
    "Or maybe you just love the command prompt *that much*."
   ]
  },
  {
   "cell_type": "markdown",
   "metadata": {
    "slideshow": {
     "slide_type": "slide"
    }
   },
   "source": [
    "Especially in computational biology, there are frequent examples of needing to interface with programs outside of Python."
   ]
  },
  {
   "cell_type": "markdown",
   "metadata": {},
   "source": [
    " - Running molecular dynamics simulations"
   ]
  },
  {
   "cell_type": "markdown",
   "metadata": {},
   "source": [
    " - Retrieving digital information from a database"
   ]
  },
  {
   "cell_type": "markdown",
   "metadata": {},
   "source": [
    " - Moving files and folders around a computer"
   ]
  },
  {
   "cell_type": "markdown",
   "metadata": {},
   "source": [
    " - **Invoking some external, specialized program to run an analysis, then using Python to synthesize the results**"
   ]
  },
  {
   "cell_type": "markdown",
   "metadata": {
    "slideshow": {
     "slide_type": "slide"
    }
   },
   "source": [
    "Python has a versatile `subprocess` module for calling and interacting with other programs."
   ]
  },
  {
   "cell_type": "markdown",
   "metadata": {},
   "source": [
    "However, first the venerable `system` command:"
   ]
  },
  {
   "cell_type": "code",
   "execution_count": 1,
   "metadata": {},
   "outputs": [
    {
     "data": {
      "text/plain": [
       "0"
      ]
     },
     "execution_count": 1,
     "metadata": {},
     "output_type": "execute_result"
    }
   ],
   "source": [
    "import os\n",
    "os.system(\"curl www.cnn.com -o cnn.html\")"
   ]
  },
  {
   "cell_type": "markdown",
   "metadata": {
    "slideshow": {
     "slide_type": "slide"
    }
   },
   "source": [
    "For simple commands, this is great. But where it quickly wears out its welcome is how it handles what comes back from the commands: the return value of the system command is the exit code, **not** what is printed to screen."
   ]
  },
  {
   "cell_type": "code",
   "execution_count": 2,
   "metadata": {},
   "outputs": [
    {
     "data": {
      "text/plain": [
       "136828"
      ]
     },
     "execution_count": 2,
     "metadata": {},
     "output_type": "execute_result"
    }
   ],
   "source": [
    "f = open('cnn.html')\n",
    "len(f.read())"
   ]
  },
  {
   "cell_type": "markdown",
   "metadata": {
    "slideshow": {
     "slide_type": "slide"
    }
   },
   "source": [
    "What exit code indicates success?\n",
    "\n",
    " - -1\n",
    " - 0\n",
    " - 1\n",
    " - empty string"
   ]
  },
  {
   "cell_type": "markdown",
   "metadata": {
    "slideshow": {
     "slide_type": "slide"
    }
   },
   "source": [
    "### `subprocess`"
   ]
  },
  {
   "cell_type": "markdown",
   "metadata": {},
   "source": [
    "The `subprocess` module replaces the following modules (so don't use them):"
   ]
  },
  {
   "cell_type": "markdown",
   "metadata": {},
   "source": [
    "```\n",
    "os.system\n",
    "os.spawn*\n",
    "os.popen*\n",
    "popen2.*\n",
    "commands.*\n",
    "```"
   ]
  },
  {
   "cell_type": "markdown",
   "metadata": {},
   "source": [
    "Think of `subprocess` as a more powerful version of all these."
   ]
  },
  {
   "cell_type": "markdown",
   "metadata": {
    "slideshow": {
     "slide_type": "slide"
    }
   },
   "source": [
    "The most basic function in the `subprocess` module is `run`."
   ]
  },
  {
   "cell_type": "markdown",
   "metadata": {},
   "source": [
    "The first and only required argument is a list: it's the command-line command and all its arguments."
   ]
  },
  {
   "cell_type": "markdown",
   "metadata": {},
   "source": [
    "Remember commands like `ls`? `cd`? `pwd`? Think of these commands as functions--they can also have arguments."
   ]
  },
  {
   "cell_type": "markdown",
   "metadata": {},
   "source": [
    " - If you *don't* want to give any arguments, you can give `subprocess.run` a list with one element: just the command you want to run."
   ]
  },
  {
   "cell_type": "markdown",
   "metadata": {},
   "source": [
    " - If you *do* provide arguments, you give `subprocess.run` a list with multiple elements, where the first element is the command to run, and the subsequent elements are the arguments to that command."
   ]
  },
  {
   "cell_type": "markdown",
   "metadata": {
    "slideshow": {
     "slide_type": "slide"
    }
   },
   "source": [
    "### Examples"
   ]
  },
  {
   "cell_type": "markdown",
   "metadata": {},
   "source": [
    "Let's see some examples, shall we?"
   ]
  },
  {
   "cell_type": "code",
   "execution_count": 3,
   "metadata": {
    "slideshow": {
     "slide_type": "fragment"
    }
   },
   "outputs": [
    {
     "data": {
      "text/plain": [
       "CompletedProcess(args=['ls'], returncode=0)"
      ]
     },
     "execution_count": 3,
     "metadata": {},
     "output_type": "execute_result"
    }
   ],
   "source": [
    "import subprocess\n",
    "subprocess.run([\"ls\"])"
   ]
  },
  {
   "cell_type": "code",
   "execution_count": 4,
   "metadata": {},
   "outputs": [
    {
     "data": {
      "text/plain": [
       "CompletedProcess(args=['touch', 'test.txt'], returncode=0)"
      ]
     },
     "execution_count": 4,
     "metadata": {},
     "output_type": "execute_result"
    }
   ],
   "source": [
    "subprocess.run([\"touch\", \"test.txt\"])"
   ]
  },
  {
   "cell_type": "code",
   "execution_count": 5,
   "metadata": {},
   "outputs": [
    {
     "data": {
      "text/plain": [
       "CompletedProcess(args=['echo', 'something', '>>', 'test.txt'], returncode=0)"
      ]
     },
     "execution_count": 5,
     "metadata": {},
     "output_type": "execute_result"
    }
   ],
   "source": [
    "subprocess.run([\"echo\", \"something\", \">>\", \"test.txt\"])"
   ]
  },
  {
   "cell_type": "code",
   "execution_count": 6,
   "metadata": {},
   "outputs": [
    {
     "data": {
      "text/plain": [
       "CompletedProcess(args=['cat', 'test.txt'], returncode=0)"
      ]
     },
     "execution_count": 6,
     "metadata": {},
     "output_type": "execute_result"
    }
   ],
   "source": [
    "subprocess.run([\"cat\", \"test.txt\"])"
   ]
  },
  {
   "cell_type": "markdown",
   "metadata": {
    "slideshow": {
     "slide_type": "slide"
    }
   },
   "source": [
    "If there's some kind of oddity with the command you're trying to run, you'll get a nonzero exit code back."
   ]
  },
  {
   "cell_type": "code",
   "execution_count": 7,
   "metadata": {},
   "outputs": [
    {
     "data": {
      "text/plain": [
       "CompletedProcess(args=['ls', 'file with spaces'], returncode=0)"
      ]
     },
     "execution_count": 7,
     "metadata": {},
     "output_type": "execute_result"
    }
   ],
   "source": [
    "subprocess.run(['ls','file with spaces'])"
   ]
  },
  {
   "cell_type": "markdown",
   "metadata": {},
   "source": [
    "What's wrong here?"
   ]
  },
  {
   "cell_type": "markdown",
   "metadata": {
    "slideshow": {
     "slide_type": "fragment"
    }
   },
   "source": [
    "If the filename really has spaces, you need to \"escape\" the filename by using `shell = True`:"
   ]
  },
  {
   "cell_type": "code",
   "execution_count": 8,
   "metadata": {},
   "outputs": [
    {
     "data": {
      "text/plain": [
       "CompletedProcess(args=['ls', 'file with spaces'], returncode=0)"
      ]
     },
     "execution_count": 8,
     "metadata": {},
     "output_type": "execute_result"
    }
   ],
   "source": [
    "subprocess.run(['ls', 'file with spaces'], shell = True)"
   ]
  },
  {
   "cell_type": "markdown",
   "metadata": {
    "slideshow": {
     "slide_type": "fragment"
    }
   },
   "source": [
    "If you're trying to run `ls` on three separate files: `file`, `with`, and `spaces`, you need to separate them into distinct list elements:"
   ]
  },
  {
   "cell_type": "code",
   "execution_count": 9,
   "metadata": {},
   "outputs": [
    {
     "data": {
      "text/plain": [
       "CompletedProcess(args=['ls', 'file', 'with', 'spaces'], returncode=0)"
      ]
     },
     "execution_count": 9,
     "metadata": {},
     "output_type": "execute_result"
    }
   ],
   "source": [
    "subprocess.run(['ls', 'file', 'with', 'spaces'])"
   ]
  },
  {
   "cell_type": "markdown",
   "metadata": {
    "slideshow": {
     "slide_type": "slide"
    }
   },
   "source": [
    "This is all well and good--I can run commands and see whether or not they worked--but usually when you run external programs, it's to generate some kind of output that you'll then want Python to use."
   ]
  },
  {
   "cell_type": "markdown",
   "metadata": {},
   "source": [
    "How do we access this output?"
   ]
  },
  {
   "cell_type": "markdown",
   "metadata": {},
   "source": [
    "First, we'll need to introduce a new concept to all programming languages: input and output streams."
   ]
  },
  {
   "cell_type": "markdown",
   "metadata": {
    "slideshow": {
     "slide_type": "slide"
    }
   },
   "source": [
    "### Standard streams"
   ]
  },
  {
   "cell_type": "markdown",
   "metadata": {},
   "source": [
    "Otherwise known as \"standard input\", \"standard output\", and \"standard error\", or in programming parlance:"
   ]
  },
  {
   "cell_type": "markdown",
   "metadata": {},
   "source": [
    "* `stdin` - standard input is usually from the keyboard\n",
    "* `stdout` - standard output, usually from `print()` statements\n",
    "* `stderr` - standard error, usually from errors"
   ]
  },
  {
   "cell_type": "markdown",
   "metadata": {},
   "source": [
    "stdin, stdout, and stderr specify the executed program's standard input, standard output and standard error file handles, respectively."
   ]
  },
  {
   "cell_type": "markdown",
   "metadata": {
    "slideshow": {
     "slide_type": "fragment"
    }
   },
   "source": [
    "**We have to redirect these streams within `subprocess` so we can see them from inside Python.**"
   ]
  },
  {
   "cell_type": "markdown",
   "metadata": {
    "slideshow": {
     "slide_type": "slide"
    }
   },
   "source": [
    "### Redirecting to files"
   ]
  },
  {
   "cell_type": "code",
   "execution_count": 10,
   "metadata": {},
   "outputs": [
    {
     "name": "stdout",
     "output_type": "stream",
     "text": [
      "['Final-Project.ipynb\\n', 'Lecture1.ipynb\\n', 'Lecture12.ipynb\\n', 'Lecture13.ipynb\\n', 'Lecture14\\n', 'Lecture14.ipynb\\n', 'Lecture15.ipynb\\n', 'Lecture19\\n', 'Lecture19.ipynb\\n', 'Lecture2.ipynb\\n', 'Lecture20\\n', 'Lecture20.ipynb\\n', 'Lecture21\\n', 'Lecture21.ipynb\\n', 'Lecture22\\n', 'Lecture22.ipynb\\n', 'Lecture23\\n', 'Lecture23.ipynb\\n', 'Lecture24.ipynb\\n', 'Lecture26\\n', 'Lecture26.ipynb\\n', 'Lecture27.ipynb\\n', 'Lecture3.ipynb\\n', 'Lecture4.ipynb\\n', 'Lecture5.ipynb\\n', 'Lecture6\\n', 'Lecture6.ipynb\\n', 'Lecture7\\n', 'Lecture7.ipynb\\n', 'Lecture8.ipynb\\n', 'Lecture9\\n', 'Lecture9.ipynb\\n', 'MA0004.1.sites\\n', 'args.py\\n', 'bnip3.fasta\\n', 'brca1.fasta\\n', 'cnn.html\\n', 'dump\\n', 'file\\n', 'file with spaces\\n', 'hydra.fasta\\n', 'hydra179.dnd\\n', 'p53.gb\\n', 'spaces\\n', 'test.txt\\n', 'with\\n']\n"
     ]
    }
   ],
   "source": [
    "f = open('dump','w')\n",
    "subprocess.run('ls', stdout = f)\n",
    "\n",
    "f = open('dump','r') #this would be a very inefficient way to get the stdout of a program\n",
    "print(f.readlines())"
   ]
  },
  {
   "cell_type": "code",
   "execution_count": 11,
   "metadata": {
    "slideshow": {
     "slide_type": "fragment"
    }
   },
   "outputs": [
    {
     "name": "stdout",
     "output_type": "stream",
     "text": [
      "ls: nonexistantfile: No such file or directory\n",
      "\n"
     ]
    }
   ],
   "source": [
    "f = open('dump','w')\n",
    "subprocess.run(['ls','nonexistantfile'], stdout = f, stderr = subprocess.STDOUT) #you can redirect stderr to stdout\n",
    "print(open('dump').read())"
   ]
  },
  {
   "cell_type": "markdown",
   "metadata": {},
   "source": [
    "Yes, that's the error message *from the command line*. Rather than showing up on the command line, we've captured `stderr` to be the `stdout` of the Python subprocess, and then redirected the `stdout` to the file. Hence, the error message is in the file!"
   ]
  },
  {
   "cell_type": "markdown",
   "metadata": {
    "slideshow": {
     "slide_type": "slide"
    }
   },
   "source": [
    "What can the targets of the `stdout` and `stderr` arguments be? Valid targets, as we've seen, include"
   ]
  },
  {
   "cell_type": "markdown",
   "metadata": {},
   "source": [
    " - an existing file object, created with `open()`"
   ]
  },
  {
   "cell_type": "markdown",
   "metadata": {},
   "source": [
    " - nothing at all, in which case the program will default to the existing `stdin`/`stdout`/`stderr`"
   ]
  },
  {
   "cell_type": "markdown",
   "metadata": {},
   "source": [
    " - `subprocess.PIPE`, which enables communication *directly* between your script and the program (**BE CAREFUL WITH THIS**)"
   ]
  },
  {
   "cell_type": "markdown",
   "metadata": {
    "slideshow": {
     "slide_type": "slide"
    }
   },
   "source": [
    "### `subprocess.Popen`"
   ]
  },
  {
   "cell_type": "markdown",
   "metadata": {},
   "source": [
    "All the previous functions are just convenience wrappers around the `Popen` object."
   ]
  },
  {
   "cell_type": "markdown",
   "metadata": {},
   "source": [
    "In addition to accepting the command and its arguments as a list, and the `stdout` and `stderr` optional arguments, `Popen` includes the `cwd` argument, which sets the working directory of the process, or defaults to the current working directory of the Python script."
   ]
  },
  {
   "cell_type": "code",
   "execution_count": 12,
   "metadata": {},
   "outputs": [
    {
     "name": "stdout",
     "output_type": "stream",
     "text": [
      "[b'Final-Project.ipynb\\n', b'Lecture1.ipynb\\n', b'Lecture12.ipynb\\n', b'Lecture13.ipynb\\n', b'Lecture14\\n', b'Lecture14.ipynb\\n', b'Lecture15.ipynb\\n', b'Lecture19\\n', b'Lecture19.ipynb\\n', b'Lecture2.ipynb\\n', b'Lecture20\\n', b'Lecture20.ipynb\\n', b'Lecture21\\n', b'Lecture21.ipynb\\n', b'Lecture22\\n', b'Lecture22.ipynb\\n', b'Lecture23\\n', b'Lecture23.ipynb\\n', b'Lecture24.ipynb\\n', b'Lecture26\\n', b'Lecture26.ipynb\\n', b'Lecture27.ipynb\\n', b'Lecture3.ipynb\\n', b'Lecture4.ipynb\\n', b'Lecture5.ipynb\\n', b'Lecture6\\n', b'Lecture6.ipynb\\n', b'Lecture7\\n', b'Lecture7.ipynb\\n', b'Lecture8.ipynb\\n', b'Lecture9\\n', b'Lecture9.ipynb\\n', b'MA0004.1.sites\\n', b'args.py\\n', b'bnip3.fasta\\n', b'brca1.fasta\\n', b'cnn.html\\n', b'dump\\n', b'file\\n', b'file with spaces\\n', b'hydra.fasta\\n', b'hydra179.dnd\\n', b'p53.gb\\n', b'spaces\\n', b'test.txt\\n', b'with\\n']\n"
     ]
    }
   ],
   "source": [
    "proc = subprocess.Popen([\"ls\"], stdout = subprocess.PIPE)\n",
    "print(proc.stdout.readlines())"
   ]
  },
  {
   "cell_type": "code",
   "execution_count": 13,
   "metadata": {
    "slideshow": {
     "slide_type": "fragment"
    }
   },
   "outputs": [
    {
     "name": "stdout",
     "output_type": "stream",
     "text": [
      "[b'Applications\\n', b'Desktop\\n', b'Documents\\n', b'Downloads\\n', b'Dropbox\\n', b'Google Drive\\n', b'Library\\n', b'Movies\\n', b'Music\\n', b'Pictures\\n', b'Programming\\n', b'Public\\n', b'SpiderOak Hive\\n', b'metastore_db\\n', b'nltk_data\\n', b'rodeo.log\\n']\n"
     ]
    }
   ],
   "source": [
    "proc = subprocess.Popen(['ls'], stdout = subprocess.PIPE, cwd = \"/Users/squinn\")\n",
    "print(proc.stdout.readlines())"
   ]
  },
  {
   "cell_type": "markdown",
   "metadata": {
    "slideshow": {
     "slide_type": "slide"
    }
   },
   "source": [
    "### `subprocess.PIPE`"
   ]
  },
  {
   "cell_type": "markdown",
   "metadata": {},
   "source": [
    "So what is this mysterious `PIPE` attribute?"
   ]
  },
  {
   "cell_type": "markdown",
   "metadata": {},
   "source": [
    "\"Pipes\" are a common operating system term for avenues of communication between different programs. In this case, a pipe is established between your Python program and whatever program you're running through `subprocess`."
   ]
  },
  {
   "cell_type": "markdown",
   "metadata": {},
   "source": [
    "If `stdout`/`stdin`/`stderr` is set to `subprocess.PIPE`, then that input/output stream of the external program is accessible through a file object in the returned object."
   ]
  },
  {
   "cell_type": "markdown",
   "metadata": {
    "slideshow": {
     "slide_type": "slide"
    }
   },
   "source": [
    "It's a regular ol' file object, so you have access to all the Python file object functions you know and love:"
   ]
  },
  {
   "cell_type": "code",
   "execution_count": 14,
   "metadata": {
    "collapsed": true
   },
   "outputs": [],
   "source": [
    "proc = subprocess.Popen(['ls'], stdout = subprocess.PIPE)"
   ]
  },
  {
   "cell_type": "code",
   "execution_count": 15,
   "metadata": {},
   "outputs": [
    {
     "name": "stdout",
     "output_type": "stream",
     "text": [
      "b'Final-Project.ipynb\\n'\n"
     ]
    }
   ],
   "source": [
    "print(proc.stdout.readline())"
   ]
  },
  {
   "cell_type": "code",
   "execution_count": 16,
   "metadata": {},
   "outputs": [
    {
     "name": "stdout",
     "output_type": "stream",
     "text": [
      "b'Lecture1.ipynb\\n'\n"
     ]
    }
   ],
   "source": [
    "print(proc.stdout.readline())"
   ]
  },
  {
   "cell_type": "code",
   "execution_count": 17,
   "metadata": {
    "slideshow": {
     "slide_type": "fragment"
    }
   },
   "outputs": [
    {
     "name": "stdout",
     "output_type": "stream",
     "text": [
      "b'Lecture12.ipynb\\n'\n",
      "b'Lecture13.ipynb\\n'\n",
      "b'Lecture14\\n'\n",
      "b'Lecture14.ipynb\\n'\n",
      "b'Lecture15.ipynb\\n'\n",
      "b'Lecture19\\n'\n",
      "b'Lecture19.ipynb\\n'\n",
      "b'Lecture2.ipynb\\n'\n",
      "b'Lecture20\\n'\n",
      "b'Lecture20.ipynb\\n'\n",
      "b'Lecture21\\n'\n",
      "b'Lecture21.ipynb\\n'\n",
      "b'Lecture22\\n'\n",
      "b'Lecture22.ipynb\\n'\n",
      "b'Lecture23\\n'\n",
      "b'Lecture23.ipynb\\n'\n",
      "b'Lecture24.ipynb\\n'\n",
      "b'Lecture26\\n'\n",
      "b'Lecture26.ipynb\\n'\n",
      "b'Lecture27.ipynb\\n'\n",
      "b'Lecture3.ipynb\\n'\n",
      "b'Lecture4.ipynb\\n'\n",
      "b'Lecture5.ipynb\\n'\n",
      "b'Lecture6\\n'\n",
      "b'Lecture6.ipynb\\n'\n",
      "b'Lecture7\\n'\n",
      "b'Lecture7.ipynb\\n'\n",
      "b'Lecture8.ipynb\\n'\n",
      "b'Lecture9\\n'\n",
      "b'Lecture9.ipynb\\n'\n",
      "b'MA0004.1.sites\\n'\n",
      "b'args.py\\n'\n",
      "b'bnip3.fasta\\n'\n",
      "b'brca1.fasta\\n'\n",
      "b'cnn.html\\n'\n",
      "b'dump\\n'\n",
      "b'file\\n'\n",
      "b'file with spaces\\n'\n",
      "b'hydra.fasta\\n'\n",
      "b'hydra179.dnd\\n'\n",
      "b'p53.gb\\n'\n",
      "b'spaces\\n'\n",
      "b'test.txt\\n'\n",
      "b'with\\n'\n"
     ]
    }
   ],
   "source": [
    "for elem in proc.stdout.readlines():\n",
    "    print(elem)"
   ]
  },
  {
   "cell_type": "markdown",
   "metadata": {},
   "source": [
    "### Core `Popen` functions"
   ]
  },
  {
   "cell_type": "markdown",
   "metadata": {
    "slideshow": {
     "slide_type": "slide"
    }
   },
   "source": [
    "* `Popen.poll()` - check to see if process has terminated"
   ]
  },
  {
   "cell_type": "markdown",
   "metadata": {},
   "source": [
    "* `Popen.wait()` - wait for process to terminate (basically, ask your Python program to hang until the command is finished)"
   ]
  },
  {
   "cell_type": "markdown",
   "metadata": {},
   "source": [
    "* `Popen.terminate()` - terminate the process (ask nicely)"
   ]
  },
  {
   "cell_type": "markdown",
   "metadata": {},
   "source": [
    "* `Popen.kill()` - kill the process with extreme prejudice"
   ]
  },
  {
   "cell_type": "code",
   "execution_count": 18,
   "metadata": {
    "collapsed": true,
    "slideshow": {
     "slide_type": "slide"
    }
   },
   "outputs": [],
   "source": [
    "proc = subprocess.Popen('cat', stdin = subprocess.PIPE, stdout = subprocess.PIPE)"
   ]
  },
  {
   "cell_type": "markdown",
   "metadata": {},
   "source": [
    "We've created *two* pipes between our Python program and the `cat` command--an input pipe to `stdin`, and an output pipe from `stdout`."
   ]
  },
  {
   "cell_type": "code",
   "execution_count": 19,
   "metadata": {
    "collapsed": true,
    "slideshow": {
     "slide_type": "fragment"
    }
   },
   "outputs": [],
   "source": [
    "proc.stdin.write(bytes(\"Hello\", encoding = 'utf-8'))\n",
    "proc.stdin.close()"
   ]
  },
  {
   "cell_type": "markdown",
   "metadata": {},
   "source": [
    "Here, we've written some raw bytes to the input--to the `cat` program, this looks like it's coming from the keyboard!"
   ]
  },
  {
   "cell_type": "code",
   "execution_count": 20,
   "metadata": {
    "slideshow": {
     "slide_type": "fragment"
    }
   },
   "outputs": [
    {
     "name": "stdout",
     "output_type": "stream",
     "text": [
      "b'Hello'\n"
     ]
    }
   ],
   "source": [
    "print(proc.stdout.read())"
   ]
  },
  {
   "cell_type": "markdown",
   "metadata": {},
   "source": [
    "Now we're reading the *output* of the `cat` program!"
   ]
  },
  {
   "cell_type": "markdown",
   "metadata": {
    "slideshow": {
     "slide_type": "slide"
    }
   },
   "source": [
    "What would happen if in the previous code we omitted the `proc.stdin.close()` call?"
   ]
  },
  {
   "cell_type": "markdown",
   "metadata": {},
   "source": [
    " - Nothing would change\n",
    " - It would not print anything\n",
    " - It would print Hello after a pause\n",
    " - It would hang"
   ]
  },
  {
   "cell_type": "markdown",
   "metadata": {
    "slideshow": {
     "slide_type": "slide"
    }
   },
   "source": [
    "### Warning!"
   ]
  },
  {
   "cell_type": "markdown",
   "metadata": {},
   "source": [
    "*Managing simultaneous input and output is tricky and can easily lead to deadlocks*."
   ]
  },
  {
   "cell_type": "markdown",
   "metadata": {},
   "source": [
    "For example, your script may be blocked waiting for output from the process which is blocked waiting for input.\n",
    "\n",
    "<img src=\"http://i.stack.imgur.com/ezUGt.jpg\">"
   ]
  },
  {
   "cell_type": "markdown",
   "metadata": {
    "slideshow": {
     "slide_type": "slide"
    }
   },
   "source": [
    "### The Dining Philosophers"
   ]
  },
  {
   "cell_type": "markdown",
   "metadata": {
    "slideshow": {
     "slide_type": "fragment"
    }
   },
   "source": [
    "<img src=\"http://adit.io/imgs/dining_philosophers/at_the_table.png\" />"
   ]
  },
  {
   "cell_type": "markdown",
   "metadata": {},
   "source": [
    "( https://en.wikipedia.org/wiki/Dining_philosophers_problem )"
   ]
  },
  {
   "cell_type": "markdown",
   "metadata": {
    "slideshow": {
     "slide_type": "slide"
    }
   },
   "source": [
    "## Part 2: Multitasking and parallal programming"
   ]
  },
  {
   "cell_type": "markdown",
   "metadata": {},
   "source": [
    "There are several parallel programming models enabled by a variety of hardware (**multicore**, cloud computing, supercomputers, GPU)."
   ]
  },
  {
   "cell_type": "markdown",
   "metadata": {
    "collapsed": true,
    "slideshow": {
     "slide_type": "fragment"
    }
   },
   "source": [
    "<img src='http://images.anandtech.com/reviews/cpu/intel/SNBE/Core_I7_LGA_2011_Die.jpg'>"
   ]
  },
  {
   "cell_type": "markdown",
   "metadata": {},
   "source": [
    "### Threads vs. Processes"
   ]
  },
  {
   "cell_type": "markdown",
   "metadata": {},
   "source": [
    "A **thread** of execution is the smallest sequence of programmed instructions that can be managed independently by an operating system scheduler. \n",
    "\n",
    "A **process** is an instance of a computer program.\n",
    "\n",
    "<center><img src='http://upload.wikimedia.org/wikipedia/commons/a/a5/Multithreaded_process.svg'></center>"
   ]
  },
  {
   "cell_type": "markdown",
   "metadata": {
    "slideshow": {
     "slide_type": "slide"
    }
   },
   "source": [
    "The long and short of threads versus processes in Python is..."
   ]
  },
  {
   "cell_type": "markdown",
   "metadata": {
    "slideshow": {
     "slide_type": "fragment"
    }
   },
   "source": [
    "**...always use processes.**"
   ]
  },
  {
   "cell_type": "markdown",
   "metadata": {},
   "source": [
    "Blah blah blah Global Interpreter Lock, blah blah blah only 1 thread allowed per Python process, blah blah blah just use **multiprocessing**."
   ]
  },
  {
   "cell_type": "markdown",
   "metadata": {
    "slideshow": {
     "slide_type": "slide"
    }
   },
   "source": [
    "### Multiple simultaneous processes"
   ]
  },
  {
   "cell_type": "markdown",
   "metadata": {},
   "source": [
    "Or *multiprocessing*."
   ]
  },
  {
   "cell_type": "markdown",
   "metadata": {},
   "source": [
    "This is the concept of parallel programming, or having your program do multiple things at the very same time."
   ]
  },
  {
   "cell_type": "markdown",
   "metadata": {},
   "source": [
    "With the rising popularity of multi-core computers, most computers these days can easily handle at least 4 parallel processes at once. Why not take advantage of that?"
   ]
  },
  {
   "cell_type": "markdown",
   "metadata": {
    "slideshow": {
     "slide_type": "slide"
    }
   },
   "source": [
    "However, writing correct, high performance parallel code can be difficult: look no further than the *Dining Philosophers* problem."
   ]
  },
  {
   "cell_type": "markdown",
   "metadata": {},
   "source": [
    "...but in some cases, it's trivial."
   ]
  },
  {
   "cell_type": "markdown",
   "metadata": {},
   "source": [
    "A problem is *embarassingly parallel* if it can be easily separated into *independent* subtasks, each of which does a substantial amount of computation."
   ]
  },
  {
   "cell_type": "markdown",
   "metadata": {
    "slideshow": {
     "slide_type": "fragment"
    }
   },
   "source": [
    "Fortunately, this happens **a lot!**\n",
    "\n",
    " * Apply this filter to 1000 images\n",
    " * Process these 5000 protein structures\n",
    " * Compute RMSDs of all frames in a trajectory\n",
    " \n",
    "In cases like these, using **Pools** will get you a significant speedup (by however many cores you have)."
   ]
  },
  {
   "cell_type": "markdown",
   "metadata": {
    "slideshow": {
     "slide_type": "slide"
    }
   },
   "source": [
    "### Pools"
   ]
  },
  {
   "cell_type": "markdown",
   "metadata": {},
   "source": [
    "`multiprocessing` supports the concept of a *pool* of workers.  You initialize with the number of processes you want to run in parallel (the default is the number of CPUs on your system) and they are available for doing parallel work:"
   ]
  },
  {
   "cell_type": "markdown",
   "metadata": {},
   "source": [
    "Then (and this is the somewhat-tricky part), you call `map()` and pass in two arguments:\n",
    " - the function you want to call in parallel, and\n",
    " - the values you want the function to evaluate in parallel"
   ]
  },
  {
   "cell_type": "markdown",
   "metadata": {},
   "source": [
    "Clear as mud? Let's see an example."
   ]
  },
  {
   "cell_type": "markdown",
   "metadata": {
    "slideshow": {
     "slide_type": "slide"
    }
   },
   "source": [
    "### Pool Example"
   ]
  },
  {
   "cell_type": "code",
   "execution_count": 21,
   "metadata": {
    "collapsed": true
   },
   "outputs": [],
   "source": [
    "import multiprocessing"
   ]
  },
  {
   "cell_type": "code",
   "execution_count": 22,
   "metadata": {},
   "outputs": [
    {
     "name": "stdout",
     "output_type": "stream",
     "text": [
      "[0, 1, 4, 9, 16, 25, 36, 49, 64, 81, 100, 121, 144, 169, 196, 225, 256, 289, 324, 361]\n"
     ]
    }
   ],
   "source": [
    "def f(x):\n",
    "    return x ** 2\n",
    "\n",
    "pool = multiprocessing.Pool(processes = 4)\n",
    "\n",
    "numbers_to_evaluate = range(20)\n",
    "\n",
    "print(pool.map(f, numbers_to_evaluate))"
   ]
  },
  {
   "cell_type": "markdown",
   "metadata": {
    "slideshow": {
     "slide_type": "slide"
    }
   },
   "source": [
    "### Inter-process communication"
   ]
  },
  {
   "cell_type": "markdown",
   "metadata": {},
   "source": [
    "While 90% of the work you'll likely do is embarrassingly parallel, some multiprocessing can't be done just with Pools."
   ]
  },
  {
   "cell_type": "markdown",
   "metadata": {},
   "source": [
    "Or, perhaps, you'll need to be able to communicate intermediate results between processes."
   ]
  },
  {
   "cell_type": "markdown",
   "metadata": {},
   "source": [
    "We can do this through **queues** and **pipes**."
   ]
  },
  {
   "cell_type": "markdown",
   "metadata": {
    "slideshow": {
     "slide_type": "slide"
    }
   },
   "source": [
    "### Queues"
   ]
  },
  {
   "cell_type": "markdown",
   "metadata": {},
   "source": [
    "`multiprocessing.Queue` provides a simple first-in-first-out messaging queue between Python processes."
   ]
  },
  {
   "cell_type": "markdown",
   "metadata": {},
   "source": [
    "* `put`: put an element on the queue. **This will block if the queue has filled up**\n",
    "* `get`: get an element from the queue. **This will block if the queue is empty**.  "
   ]
  },
  {
   "cell_type": "markdown",
   "metadata": {},
   "source": [
    "Queues are great if all you want to do is basically \"report\" on the progress of a process. The process `put`s in updates, e.g. \"20% finished\", and the main Python script `get`s these updates and prints them out to you."
   ]
  },
  {
   "cell_type": "markdown",
   "metadata": {
    "slideshow": {
     "slide_type": "slide"
    }
   },
   "source": [
    "### Pipes"
   ]
  },
  {
   "cell_type": "markdown",
   "metadata": {},
   "source": [
    "A pipe is a communication channel between processes that can send and receive messages."
   ]
  },
  {
   "cell_type": "markdown",
   "metadata": {},
   "source": [
    "`Pipe()` return a tuple of `Connection` objects representing the ends of the pipe.  Each connection object has the following methods:\n",
    "\n",
    "* `send`: sends data to other end of the pipe\n",
    "* `recv`: waits for data from other end of the pipe (unless pipe closed, then `EOFError`)\n",
    "* `close`: close the pipe"
   ]
  },
  {
   "cell_type": "markdown",
   "metadata": {},
   "source": [
    "Unlike queues, pipes can support two-way communication between processes."
   ]
  },
  {
   "cell_type": "code",
   "execution_count": 23,
   "metadata": {
    "slideshow": {
     "slide_type": "slide"
    }
   },
   "outputs": [],
   "source": [
    "import multiprocessing\n",
    "\n",
    "def chatty(conn): #this takes a Connection object representing one end of a pipe\n",
    "    msg = conn.recv()\n",
    "    conn.send(\"you sent me '\" + msg + \"'\")"
   ]
  },
  {
   "cell_type": "code",
   "execution_count": 24,
   "metadata": {
    "collapsed": true
   },
   "outputs": [],
   "source": [
    "# Create the two ends of the pipe.\n",
    "(c1,c2) = multiprocessing.Pipe()"
   ]
  },
  {
   "cell_type": "code",
   "execution_count": 25,
   "metadata": {
    "collapsed": true
   },
   "outputs": [],
   "source": [
    "# Spin off the process that runs the \"Chatty\" function.\n",
    "p1 = multiprocessing.Process(target = chatty, args = (c2, ))\n",
    "p1.start()"
   ]
  },
  {
   "cell_type": "code",
   "execution_count": 26,
   "metadata": {},
   "outputs": [
    {
     "name": "stdout",
     "output_type": "stream",
     "text": [
      "you sent me 'Hello!'\n"
     ]
    }
   ],
   "source": [
    "# Send a message to the process, and receive its response.\n",
    "c1.send(\"Hello!\")\n",
    "result = c1.recv()\n",
    "p1.join()\n",
    "\n",
    "print(result)"
   ]
  },
  {
   "cell_type": "markdown",
   "metadata": {
    "slideshow": {
     "slide_type": "slide"
    }
   },
   "source": [
    "### `joblib`"
   ]
  },
  {
   "cell_type": "markdown",
   "metadata": {},
   "source": [
    "`joblib` is a wonderful package that uses `multiprocessing` on the backend, but simplifies things greatly by removing a lot of boilerplate."
   ]
  },
  {
   "cell_type": "markdown",
   "metadata": {
    "slideshow": {
     "slide_type": "slide"
    }
   },
   "source": [
    "The most likely source of duplicated effort is in loops."
   ]
  },
  {
   "cell_type": "code",
   "execution_count": 27,
   "metadata": {
    "collapsed": true
   },
   "outputs": [],
   "source": [
    "import numpy as np\n",
    "\n",
    "def identity(value):\n",
    "    return np.sqrt(value ** 2)"
   ]
  },
  {
   "cell_type": "code",
   "execution_count": 28,
   "metadata": {
    "collapsed": true
   },
   "outputs": [],
   "source": [
    "# Now do some computation.\n",
    "array = range(100000)\n",
    "retval = []\n",
    "for i in array:\n",
    "    retval.append(identity(i))"
   ]
  },
  {
   "cell_type": "markdown",
   "metadata": {},
   "source": [
    "An important observation: **no specific value of the array depends on any other**. This means it doesn't matter the order in which these computations are performed. Plus it takes forever to run this on 100,000 numbers, one after another."
   ]
  },
  {
   "cell_type": "markdown",
   "metadata": {},
   "source": [
    "So why not perform them *at the same time*?"
   ]
  },
  {
   "cell_type": "markdown",
   "metadata": {
    "slideshow": {
     "slide_type": "slide"
    }
   },
   "source": [
    "With `multiprocessing`, we had to set up a `Pool` and a `map`. Not with `joblib`:"
   ]
  },
  {
   "cell_type": "code",
   "execution_count": 29,
   "metadata": {},
   "outputs": [
    {
     "name": "stderr",
     "output_type": "stream",
     "text": [
      "[Parallel(n_jobs=8)]: Done 10176 tasks      | elapsed:    0.5s\n",
      "[Parallel(n_jobs=8)]: Done 100000 out of 100000 | elapsed:    0.9s finished\n"
     ]
    }
   ],
   "source": [
    "from joblib import Parallel, delayed\n",
    "\n",
    "retval = Parallel(n_jobs = 8, verbose = 1)(delayed(identity)(i) for i in array)"
   ]
  },
  {
   "cell_type": "markdown",
   "metadata": {},
   "source": [
    "This is a bit tricky at first, but I promise it's more straightforward than `multiprocessing`."
   ]
  },
  {
   "cell_type": "markdown",
   "metadata": {
    "slideshow": {
     "slide_type": "slide"
    }
   },
   "source": [
    "Let's take the code bit by bit.\n",
    "\n",
    "** ` retval = Parallel(n_jobs = 8, verbose = 1)(delayed(identity)(i) for i in array) `**"
   ]
  },
  {
   "cell_type": "markdown",
   "metadata": {
    "slideshow": {
     "slide_type": "fragment"
    }
   },
   "source": [
    " - `Parallel(n_jobs = 8, verbose = 1)`: This sets up the parallel computation, specifying we want to use 8 separate processes. The `verbose` is just a logging argument--the higher the number, the more debugging output it spits out."
   ]
  },
  {
   "cell_type": "markdown",
   "metadata": {
    "slideshow": {
     "slide_type": "fragment"
    }
   },
   "source": [
    " - `delayed(identity)`: This is a little syntax trick by `joblib`, but basically: whatever function you want to run in parallel, you pass in to the `delayed()` function."
   ]
  },
  {
   "cell_type": "markdown",
   "metadata": {
    "slideshow": {
     "slide_type": "fragment"
    }
   },
   "source": [
    " - `(i)`: This is the argument you want to pass to the function you're running in parallel."
   ]
  },
  {
   "cell_type": "markdown",
   "metadata": {
    "slideshow": {
     "slide_type": "fragment"
    }
   },
   "source": [
    " - `for i in array`: and this is the loop through the data you want to process in parallel."
   ]
  },
  {
   "cell_type": "markdown",
   "metadata": {
    "slideshow": {
     "slide_type": "slide"
    }
   },
   "source": [
    "All the same pieces are there as in `multiprocessing`!"
   ]
  },
  {
   "cell_type": "markdown",
   "metadata": {},
   "source": [
    "`joblib` just streamlines the process by assuming loops are your primary source of repetition (a good assumption), so it bakes its machinery into the loop structure."
   ]
  },
  {
   "cell_type": "markdown",
   "metadata": {},
   "source": [
    "Anytime you do parameter scans, data point preprocessing, anything that is \"embarrassingly parallel\" or that would use `multiprocessing.Pool`, use `joblib` instead."
   ]
  },
  {
   "cell_type": "markdown",
   "metadata": {
    "slideshow": {
     "slide_type": "slide"
    }
   },
   "source": [
    "## Part 3: Extreme Python"
   ]
  },
  {
   "cell_type": "markdown",
   "metadata": {},
   "source": [
    "Just a quick look at one of the more cutting-edge Python packages: `numba`"
   ]
  },
  {
   "cell_type": "markdown",
   "metadata": {
    "slideshow": {
     "slide_type": "slide"
    }
   },
   "source": [
    "Let's say you're trying to compute the Frobenius norm on an alignment matrix from a molecular dynamics simulation."
   ]
  },
  {
   "cell_type": "markdown",
   "metadata": {},
   "source": [
    "(that's just a fancy way of saying \"element-wise Euclidean distance\")"
   ]
  },
  {
   "cell_type": "code",
   "execution_count": 30,
   "metadata": {
    "collapsed": true
   },
   "outputs": [],
   "source": [
    "def frob(matrix):\n",
    "    rows = matrix.shape[0]\n",
    "    cols = matrix.shape[1]\n",
    "    \n",
    "    frob_norm = 0.0\n",
    "    for i in range(rows):\n",
    "        for j in range(cols):\n",
    "            frob_norm += matrix[i, j] ** 2\n",
    "    \n",
    "    return np.sqrt(frob_norm)"
   ]
  },
  {
   "cell_type": "markdown",
   "metadata": {},
   "source": [
    "Let's see how it works."
   ]
  },
  {
   "cell_type": "code",
   "execution_count": 31,
   "metadata": {
    "slideshow": {
     "slide_type": "slide"
    }
   },
   "outputs": [
    {
     "name": "stdout",
     "output_type": "stream",
     "text": [
      "5.71937796683\n"
     ]
    }
   ],
   "source": [
    "import numpy as np\n",
    "\n",
    "x1 = np.random.random((10, 10))  # A 10x10 random matrix\n",
    "f1 = frob(x1)\n",
    "print(f1)"
   ]
  },
  {
   "cell_type": "markdown",
   "metadata": {
    "slideshow": {
     "slide_type": "-"
    }
   },
   "source": [
    "Cool. Seems to have worked reasonably well. Out of sheer curiosity, how long did that take to run?"
   ]
  },
  {
   "cell_type": "code",
   "execution_count": 32,
   "metadata": {
    "slideshow": {
     "slide_type": "fragment"
    }
   },
   "outputs": [
    {
     "name": "stdout",
     "output_type": "stream",
     "text": [
      "10000 loops, best of 3: 46 µs per loop\n"
     ]
    }
   ],
   "source": [
    "%timeit frob(x1)"
   ]
  },
  {
   "cell_type": "markdown",
   "metadata": {},
   "source": [
    "Not bad. $10^{-6}$ seconds per run."
   ]
  },
  {
   "cell_type": "markdown",
   "metadata": {
    "slideshow": {
     "slide_type": "slide"
    }
   },
   "source": [
    "How well does it scale if the matrix is an order of magnitude larger?"
   ]
  },
  {
   "cell_type": "code",
   "execution_count": 33,
   "metadata": {},
   "outputs": [
    {
     "name": "stdout",
     "output_type": "stream",
     "text": [
      "57.7465642187\n"
     ]
    }
   ],
   "source": [
    "x2 = np.random.random((100, 100))  # A 100x100 random matrix!\n",
    "f2 = frob(x2)\n",
    "print(f2)"
   ]
  },
  {
   "cell_type": "code",
   "execution_count": 34,
   "metadata": {
    "slideshow": {
     "slide_type": "fragment"
    }
   },
   "outputs": [
    {
     "name": "stdout",
     "output_type": "stream",
     "text": [
      "100 loops, best of 3: 4.12 ms per loop\n"
     ]
    }
   ],
   "source": [
    "%timeit frob(x2)"
   ]
  },
  {
   "cell_type": "markdown",
   "metadata": {},
   "source": [
    "Yikes--an order of magnitude in data size, but *two* orders of magnitude in runtime increase."
   ]
  },
  {
   "cell_type": "markdown",
   "metadata": {
    "slideshow": {
     "slide_type": "slide"
    }
   },
   "source": [
    "Let's try one more data size increase. I have a bad feeling about this..."
   ]
  },
  {
   "cell_type": "code",
   "execution_count": 35,
   "metadata": {},
   "outputs": [
    {
     "name": "stdout",
     "output_type": "stream",
     "text": [
      "577.384362088\n"
     ]
    }
   ],
   "source": [
    "x3 = np.random.random((1000, 1000))  # Yikes\n",
    "f3 = frob(x3)\n",
    "print(f3)"
   ]
  },
  {
   "cell_type": "code",
   "execution_count": 36,
   "metadata": {
    "slideshow": {
     "slide_type": "fragment"
    }
   },
   "outputs": [
    {
     "name": "stdout",
     "output_type": "stream",
     "text": [
      "1 loop, best of 3: 397 ms per loop\n"
     ]
    }
   ],
   "source": [
    "%timeit frob(x3)"
   ]
  },
  {
   "cell_type": "markdown",
   "metadata": {},
   "source": [
    "Another order of magnitude on the data, another *two* orders of magnitude on the runtime. Clearly not a good trend. Maybe a *quadratic* trend, in fact?"
   ]
  },
  {
   "cell_type": "markdown",
   "metadata": {
    "slideshow": {
     "slide_type": "slide"
    }
   },
   "source": [
    "Point being, this code doesn't scale. At all."
   ]
  },
  {
   "cell_type": "markdown",
   "metadata": {},
   "source": [
    "Of course, the problem lies in the fact that you could be using NumPy array broadcasting. But let's say you didn't know about it."
   ]
  },
  {
   "cell_type": "markdown",
   "metadata": {},
   "source": [
    "Or, much more likely, it's a very small part of a *much larger* scientific program--complete with subprocesses and multiprocessing--and it's going to be tough to isolate a single part and optimize it."
   ]
  },
  {
   "cell_type": "markdown",
   "metadata": {
    "slideshow": {
     "slide_type": "slide"
    }
   },
   "source": [
    "\"Just-in-time\" compilation to the rescue!"
   ]
  },
  {
   "cell_type": "code",
   "execution_count": 37,
   "metadata": {
    "collapsed": true
   },
   "outputs": [],
   "source": [
    "from numba import jit\n",
    "\n",
    "@jit\n",
    "def frob2(matrix):\n",
    "    rows = matrix.shape[0]\n",
    "    cols = matrix.shape[1]\n",
    "    \n",
    "    frob_norm = 0.0\n",
    "    for i in range(rows):\n",
    "        for j in range(cols):\n",
    "            frob_norm += matrix[i, j] ** 2\n",
    "    \n",
    "    return np.sqrt(frob_norm)"
   ]
  },
  {
   "cell_type": "markdown",
   "metadata": {},
   "source": [
    "I promise--other than the `@jit` decorator on top of the function definition, the code for `frob2` is *identical* to that of `frob`."
   ]
  },
  {
   "cell_type": "markdown",
   "metadata": {
    "slideshow": {
     "slide_type": "slide"
    }
   },
   "source": [
    "Let's test this out on the third and largest test data!"
   ]
  },
  {
   "cell_type": "code",
   "execution_count": 38,
   "metadata": {
    "slideshow": {
     "slide_type": "fragment"
    }
   },
   "outputs": [
    {
     "name": "stdout",
     "output_type": "stream",
     "text": [
      "1 loop, best of 3: 410 ms per loop\n"
     ]
    }
   ],
   "source": [
    "%timeit frob(x3)"
   ]
  },
  {
   "cell_type": "code",
   "execution_count": 42,
   "metadata": {},
   "outputs": [
    {
     "name": "stdout",
     "output_type": "stream",
     "text": [
      "1000 loops, best of 3: 854 µs per loop\n"
     ]
    }
   ],
   "source": [
    "%timeit frob2(x3)"
   ]
  },
  {
   "cell_type": "markdown",
   "metadata": {},
   "source": [
    "Woo! Got our three orders of magnitude back! "
   ]
  },
  {
   "cell_type": "markdown",
   "metadata": {
    "slideshow": {
     "slide_type": "slide"
    }
   },
   "source": [
    "For the sake of completeness, let's see how this compares to a full NumPy array broadcasting version."
   ]
  },
  {
   "cell_type": "code",
   "execution_count": 40,
   "metadata": {
    "collapsed": true
   },
   "outputs": [],
   "source": [
    "def frob3(matrix):\n",
    "    s = (matrix ** 2).sum()\n",
    "    return np.sqrt(s)"
   ]
  },
  {
   "cell_type": "code",
   "execution_count": 43,
   "metadata": {
    "slideshow": {
     "slide_type": "fragment"
    }
   },
   "outputs": [
    {
     "name": "stdout",
     "output_type": "stream",
     "text": [
      "1000 loops, best of 3: 1.06 ms per loop\n"
     ]
    }
   ],
   "source": [
    "%timeit frob3(x3)"
   ]
  },
  {
   "cell_type": "markdown",
   "metadata": {},
   "source": [
    "Yes, ladies and gentlemen: `numba`-optimized Python code is *faster* than you can get from doing everything right using NumPy magic."
   ]
  },
  {
   "cell_type": "markdown",
   "metadata": {
    "slideshow": {
     "slide_type": "slide"
    }
   },
   "source": [
    "### Just-in-time compilation"
   ]
  },
  {
   "cell_type": "markdown",
   "metadata": {},
   "source": [
    "`numba` works its magic by *selectively* compiling portions of Python code so they run really, really fast."
   ]
  },
  {
   "cell_type": "markdown",
   "metadata": {},
   "source": [
    "\"Interpreted\" languages versus \"compiled\" languages was one of the first concepts we discussed early on. "
   ]
  },
  {
   "cell_type": "markdown",
   "metadata": {},
   "source": [
    " - Interpreted languages \"tend\" to be easier to use, but run more slowly"
   ]
  },
  {
   "cell_type": "markdown",
   "metadata": {},
   "source": [
    " - Compiled languages \"tend\" to run really fast, but are harder to program in"
   ]
  },
  {
   "cell_type": "markdown",
   "metadata": {},
   "source": [
    "The key phrase is **tend to**: packages like `numba` are blurring this demarcation."
   ]
  },
  {
   "cell_type": "markdown",
   "metadata": {
    "slideshow": {
     "slide_type": "slide"
    }
   },
   "source": [
    "## Summary"
   ]
  },
  {
   "cell_type": "markdown",
   "metadata": {
    "slideshow": {
     "slide_type": "fragment"
    }
   },
   "source": [
    " - You don't need to ditch Python if you need to run an alignment using PyMol--just use `subprocess` to call external programs (I use it to interface with our class' Slack chat through Python!)."
   ]
  },
  {
   "cell_type": "markdown",
   "metadata": {
    "slideshow": {
     "slide_type": "fragment"
    }
   },
   "source": [
    " - If you're testing out a bunch of parameter values on the same data, don't just use a loop. It's an *embarrassingly parallel* problem, so use `multiprocessing` or `joblib` for magically fast speedups through parallelism."
   ]
  },
  {
   "cell_type": "markdown",
   "metadata": {
    "slideshow": {
     "slide_type": "fragment"
    }
   },
   "source": [
    " - If your code is still running slow, first make sure you're breaking it apart into functions. Then see if `numba`'s just-in-time compiler can add any speed."
   ]
  },
  {
   "cell_type": "markdown",
   "metadata": {
    "slideshow": {
     "slide_type": "slide"
    }
   },
   "source": [
    "## Administrivia"
   ]
  },
  {
   "cell_type": "markdown",
   "metadata": {
    "slideshow": {
     "slide_type": "-"
    }
   },
   "source": [
    " - How is Assignment \"456\" going?"
   ]
  },
  {
   "cell_type": "markdown",
   "metadata": {},
   "source": [
    " - How are projects going?"
   ]
  },
  {
   "cell_type": "markdown",
   "metadata": {
    "slideshow": {
     "slide_type": "-"
    }
   },
   "source": [
    " - **Course evaluation website is up!** Please submit! Any feedback will be helpful, even if it's \"this class sucked because Python sucks\" http://eval.franklin.uga.edu/ . The website is only open until April 26 (that's **next Wednesday**), so get your evaluations in sooner rather than later!"
   ]
  },
  {
   "cell_type": "markdown",
   "metadata": {
    "slideshow": {
     "slide_type": "slide"
    }
   },
   "source": [
    "## Additional Resources\n",
    "\n"
   ]
  },
  {
   "cell_type": "markdown",
   "metadata": {},
   "source": [
    " - subprocess https://docs.python.org/3/library/subprocess.html\n",
    " - multiprocessing https://docs.python.org/3.6/library/multiprocessing.html\n",
    " - joblib https://pythonhosted.org/joblib/parallel.html\n",
    " - numba http://numba.pydata.org/"
   ]
  }
 ],
 "metadata": {
  "anaconda-cloud": {},
  "celltoolbar": "Slideshow",
  "kernelspec": {
   "display_name": "Python 3",
   "language": "python",
   "name": "python3"
  },
  "language_info": {
   "codemirror_mode": {
    "name": "ipython",
    "version": 3
   },
   "file_extension": ".py",
   "mimetype": "text/x-python",
   "name": "python",
   "nbconvert_exporter": "python",
   "pygments_lexer": "ipython3",
   "version": "3.5.3"
  }
 },
 "nbformat": 4,
 "nbformat_minor": 1
}
