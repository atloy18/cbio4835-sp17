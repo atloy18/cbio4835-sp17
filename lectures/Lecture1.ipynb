{
 "cells": [
  {
   "cell_type": "markdown",
   "metadata": {
    "slideshow": {
     "slide_type": "slide"
    }
   },
   "source": [
    "# Lecture 1: Welcome and Introduction\n",
    "CBIO (CSCI) 4835/6835: Introduction to Computational Biology"
   ]
  },
  {
   "cell_type": "markdown",
   "metadata": {
    "slideshow": {
     "slide_type": "slide"
    }
   },
   "source": [
    "## Overview and Objectives\n",
    "\n",
    "In this lecture, we'll define and discuss the field of \"computational biology\" and motivate programming in a wet lab setting. We'll also go over the logistics of CBIO 4835/6835 and how the course will proceed over the semester. By the end of this lecture, you should be able to\n",
    "\n",
    " - Define \"computational biology\" and the importance of having coding skills\n",
    " - Define the Python programming language\n",
    " - Take the course pre-test (Google doc, linked at the end)\n",
    " - Log into the course Slack channel and JupyterHub"
   ]
  },
  {
   "cell_type": "markdown",
   "metadata": {
    "collapsed": true,
    "slideshow": {
     "slide_type": "slide"
    }
   },
   "source": [
    "## What is \"Computational Biology\"?"
   ]
  },
  {
   "cell_type": "markdown",
   "metadata": {
    "slideshow": {
     "slide_type": "fragment"
    }
   },
   "source": [
    "Is it \"biology, but with computers\"?"
   ]
  },
  {
   "cell_type": "markdown",
   "metadata": {
    "slideshow": {
     "slide_type": "fragment"
    }
   },
   "source": [
    "What does that even mean, anyway? Is using Excel considered \"computational\"?"
   ]
  },
  {
   "cell_type": "markdown",
   "metadata": {
    "slideshow": {
     "slide_type": "fragment"
    }
   },
   "source": [
    "What differentiates biology from computational biology?"
   ]
  },
  {
   "cell_type": "markdown",
   "metadata": {
    "slideshow": {
     "slide_type": "fragment"
    }
   },
   "source": [
    "What about quantitative biology? Where does that fit in?"
   ]
  },
  {
   "cell_type": "markdown",
   "metadata": {
    "slideshow": {
     "slide_type": "fragment"
    }
   },
   "source": [
    "Is that a subset of computational biology, or is computational biology a subset of it? Or do they just share some overlap?"
   ]
  },
  {
   "cell_type": "markdown",
   "metadata": {
    "slideshow": {
     "slide_type": "fragment"
    }
   },
   "source": [
    "And isn't all this just \"bioinformatics\"?"
   ]
  },
  {
   "cell_type": "markdown",
   "metadata": {
    "slideshow": {
     "slide_type": "slide"
    }
   },
   "source": [
    "<img src=\"http://crankycoder.net/wp-content/uploads/2016/03/What-Meme-13.jpg\" />"
   ]
  },
  {
   "cell_type": "markdown",
   "metadata": {
    "slideshow": {
     "slide_type": "slide"
    }
   },
   "source": [
    "<img src=\"http://cs.uga.edu/~squinn/images/cbio4835/compbio.png\" />"
   ]
  },
  {
   "cell_type": "markdown",
   "metadata": {
    "slideshow": {
     "slide_type": "slide"
    }
   },
   "source": [
    "<img src=\"http://cs.uga.edu/~squinn/images/cbio4835/bioinformatics_venn.png\" />"
   ]
  },
  {
   "cell_type": "markdown",
   "metadata": {
    "slideshow": {
     "slide_type": "slide"
    }
   },
   "source": [
    "<img src=\"http://cs.uga.edu/~squinn/images/cbio4835/subfields.png\" />"
   ]
  },
  {
   "cell_type": "markdown",
   "metadata": {
    "slideshow": {
     "slide_type": "slide"
    }
   },
   "source": [
    "For the purposes of this course, I'm less concerned with properly categorizing computational biology vs bioinformatics, and more interested in"
   ]
  },
  {
   "cell_type": "markdown",
   "metadata": {
    "slideshow": {
     "slide_type": "fragment"
    }
   },
   "source": [
    " - Giving everyone the opportunity to gain experience in programming"
   ]
  },
  {
   "cell_type": "markdown",
   "metadata": {
    "slideshow": {
     "slide_type": "fragment"
    }
   },
   "source": [
    " - Teaching Python"
   ]
  },
  {
   "cell_type": "markdown",
   "metadata": {
    "slideshow": {
     "slide_type": "fragment"
    }
   },
   "source": [
    " - Surveying computational methods in a biological context"
   ]
  },
  {
   "cell_type": "markdown",
   "metadata": {
    "slideshow": {
     "slide_type": "fragment"
    }
   },
   "source": [
    " - **Improving everyone's skills to be more productive and successful researchers**"
   ]
  },
  {
   "cell_type": "markdown",
   "metadata": {
    "slideshow": {
     "slide_type": "slide"
    }
   },
   "source": [
    "## Why Python?\n",
    "\n",
    "<img src=\"http://malwaredoc.com/wp-content/uploads/2014/05/630x354xshutterstock_python_0.jpg.pagespeed.ic.lWbroD6ep5.jpg\" />"
   ]
  },
  {
   "cell_type": "markdown",
   "metadata": {
    "slideshow": {
     "slide_type": "slide"
    }
   },
   "source": [
    "<img src=\"https://realpython.com/learn/python-first-steps/images/pythonlogo.jpg\" />"
   ]
  },
  {
   "cell_type": "markdown",
   "metadata": {
    "slideshow": {
     "slide_type": "slide"
    }
   },
   "source": [
    "## Python\n",
    "\n",
    "The language is designed from the ground-up to be easy to use.\n",
    "\n",
    "It's a full-featured (like C++ or Java), powerful language that can be used in a lot of different contexts.\n",
    "\n",
    "Most importantly, it's **free**: a completely open-source platform that costs nothing."
   ]
  },
  {
   "cell_type": "markdown",
   "metadata": {
    "slideshow": {
     "slide_type": "slide"
    }
   },
   "source": [
    "Python is also an extremely popular language.\n",
    "\n",
    "<img src=\"http://pypl.github.io/PYPL/All.png\" />\n",
    "\n",
    "Of course, while that may turn off the programming language hipsters, it does mean that the language and its surrounding ecosystem has lots of momentum. This comes in handy when we want to explore specific problems!"
   ]
  },
  {
   "cell_type": "markdown",
   "metadata": {
    "slideshow": {
     "slide_type": "slide"
    }
   },
   "source": [
    "It's not *the* most popular language--that accolade belongs to Java, and it will likely be a long time before that changes--but it is easily one of the fastest-growing.\n",
    "\n",
    "<img src=\"http://cs.uga.edu/~squinn/images/cbio4835/popularity.png\" />\n",
    "\n",
    "See more programming language statistics here: http://pypl.github.io/PYPL.html"
   ]
  },
  {
   "cell_type": "markdown",
   "metadata": {
    "slideshow": {
     "slide_type": "slide"
    }
   },
   "source": [
    "## Python is cool, Computational Biology is a thing...so what?"
   ]
  },
  {
   "cell_type": "markdown",
   "metadata": {
    "slideshow": {
     "slide_type": "fragment"
    }
   },
   "source": [
    "Let's look at the current wet lab experimental pipeline.\n",
    "\n",
    "<img src=\"http://cs.uga.edu/~squinn/images/cbio4835/goals1.png\" />"
   ]
  },
  {
   "cell_type": "markdown",
   "metadata": {
    "slideshow": {
     "slide_type": "slide"
    }
   },
   "source": [
    "Seems good enough. Now, let's add a wrinkle."
   ]
  },
  {
   "cell_type": "markdown",
   "metadata": {
    "slideshow": {
     "slide_type": "fragment"
    }
   },
   "source": [
    "<img src=\"http://cs.uga.edu/~squinn/images/cbio4835/goals2.png\" />"
   ]
  },
  {
   "cell_type": "markdown",
   "metadata": {
    "slideshow": {
     "slide_type": "slide"
    }
   },
   "source": [
    "Oh, goodie. Back to the lab for another round of sleepless nights.\n",
    "\n",
    "You can imagine how this can go on and on. Wouldn't it be nice to collect data once and, I don't know, *automate* the analysis?"
   ]
  },
  {
   "cell_type": "markdown",
   "metadata": {
    "slideshow": {
     "slide_type": "fragment"
    }
   },
   "source": [
    "<img src=\"http://cs.uga.edu/~squinn/images/cbio4835/goals3.png\" />"
   ]
  },
  {
   "cell_type": "markdown",
   "metadata": {
    "slideshow": {
     "slide_type": "slide"
    }
   },
   "source": [
    "It's that step at the end that's key."
   ]
  },
  {
   "cell_type": "markdown",
   "metadata": {
    "slideshow": {
     "slide_type": "fragment"
    }
   },
   "source": [
    "<img src=\"http://cs.uga.edu/~squinn/images/cbio4835/goals4.png\" />"
   ]
  },
  {
   "cell_type": "markdown",
   "metadata": {
    "slideshow": {
     "slide_type": "slide"
    }
   },
   "source": [
    "In some sense, it's the goal of computational biology to *become* biology--that is, \"computational biology\" will be a redundant way of referring to the overall field."
   ]
  },
  {
   "cell_type": "markdown",
   "metadata": {
    "slideshow": {
     "slide_type": "fragment"
    }
   },
   "source": [
    "If anyone is familiar with the buzzphrase of the 2010s \"data science\", you can think of computational biology as data science in biology."
   ]
  },
  {
   "cell_type": "markdown",
   "metadata": {
    "slideshow": {
     "slide_type": "fragment"
    }
   },
   "source": [
    "**In this course, we'll combine programming in Python with statistics to automate analyses of biological data.** "
   ]
  },
  {
   "cell_type": "markdown",
   "metadata": {
    "slideshow": {
     "slide_type": "slide"
    }
   },
   "source": [
    "## Course Logistics\n",
    "\n",
    "All lecture materials will be posted on the course website: https://eds-uga.github.io/cbio4835-sp17/\n",
    "\n",
    "You **do NOT have to** install Python on your own computer; the only requirement is that you have something with a modern web browser and an internet connection.\n",
    "\n",
    "*However*, installing Python on your own machine does give you more tinkering elbow room, though (instructions to this effect to follow in a future lecture)."
   ]
  },
  {
   "cell_type": "markdown",
   "metadata": {
    "slideshow": {
     "slide_type": "slide"
    }
   },
   "source": [
    "### Lectures\n",
    "\n",
    "**Attendance is NOT mandatory**. You're all adults. More importantly, you or someone you know is paying for you to be here, so whether or not you attend that money's gone.\n",
    "\n",
    "*That said*, my least favorite question is from a student I've never seen in lecture coming to office hours for the first time the day before the midterm, asking me to summarize the semester for them. Yeah, no.\n",
    "\n",
    "Make yourself a regular in lecture, a regular on the Slack chat (asking AND answering questions), and letting me know when you need to miss lecture (we've all got things to do; you don't have to ask permission, just let me know when you won't be there), and you'll be fine."
   ]
  },
  {
   "cell_type": "markdown",
   "metadata": {
    "slideshow": {
     "slide_type": "slide"
    }
   },
   "source": [
    "### Grading\n",
    "\n",
    "The breakdown is summarized in the course syllabus (linked on the website, also found here: https://eds-uga.github.io/cbio4835-sp17/syllabus.pdf).\n",
    "\n",
    "Basically, it's a little different depending on whether you are in 6835 or 4835. For everyone, the following is the same:\n",
    "\n",
    " - Participation: 5%\n",
    " - Midterm exam: 15%\n",
    " - Final exam: 20%\n",
    " \n",
    "For those in 6835, you have a final project requirement, so the remaining 60% is split thusly:\n",
    "\n",
    " - Assignments: 45% (5 assignment, 9% each)\n",
    " - Final Project: 15%\n",
    " \n",
    "For those in 4835, you have no such final project requirement, so your 60% looks like this:\n",
    "\n",
    " - Assignments: 60% (6 assignments, 10% each)\n",
    " \n",
    "However, if you're in 4835 and thinking of going to grad school, or just want a challenge, you can jump on the 6835 grading bandwagon and do the project in lieu of Assignment 6. You'll also receive extra credit up to a full letter grade (10pts)."
   ]
  },
  {
   "cell_type": "markdown",
   "metadata": {
    "slideshow": {
     "slide_type": "slide"
    }
   },
   "source": [
    "### Assignments\n",
    "\n",
    "There will be 6 assignments. Before the midterm, they'll be released on Thursdays and due by 11:59pm two weeks later. After the midterm, they'll be released Tuesdays and due by 11:59pm two weeks later.\n",
    "\n",
    "They will all be released over JupyterHub in the form of Jupyter notebooks. We'll go more over this format in a future lecture, but suffice to say you'll do the assignments in the entirety through a web browser. Thus, you won't need to install Python on your own machine unless you want to.\n",
    "\n",
    "If you're doing the final project, whether as a student in 6835 or an undergraduate in search of extra credit, **you do not need to do Assignment 6.**"
   ]
  },
  {
   "cell_type": "markdown",
   "metadata": {
    "slideshow": {
     "slide_type": "slide"
    }
   },
   "source": [
    "### Projects\n",
    "\n",
    "Final projects will consist of three main components:\n",
    "\n",
    " - A brief proposal, outlining the project you want to run, the dataset you'll use, and the computational experiments you'll perform\n",
    " - A 25-minute presentation at the end of the semester, outlining your major results\n",
    " - A full conference-ready paper, detailing the problem you worked on, the methods you used, and the results you obtained\n",
    " \n",
    "More details will be released later in the semester. Be thinking about what you might want to do!"
   ]
  },
  {
   "cell_type": "markdown",
   "metadata": {
    "slideshow": {
     "slide_type": "slide"
    }
   },
   "source": [
    "### JupyterHub\n",
    "\n",
    "Assignments will be released, completed, and submitted by JupyterHub. Everyone should have their own login (if you don't or it isn't working, let me know!).\n",
    "\n",
    "The assignments will be in Jupyter notebook format. Jupyter notebooks will come with their own autograders, so you can run those tests on your completed sections before submitting. Occasionally there are errors in the autograders, so if you suspect your code is correct even though the autograder is throwing errors, post about it in Slack!\n",
    "\n",
    "You'll subsequently submit completed Jupyter notebooks through JupyterHub as well. **This final step is critical; you have to click \"Submit\" for me to see your assignment and give it a grade!** In the past this has only rarely been a problem, but nonetheless something to keep in mind.\n",
    "\n",
    "JupyterHub is more than just a conduit for homework assignments. You can also create your own Jupyter notebooks and experiment with Python! This is a great alternative to installing Python on your own computer. I highly encourage you to do this!"
   ]
  },
  {
   "cell_type": "markdown",
   "metadata": {
    "slideshow": {
     "slide_type": "slide"
    }
   },
   "source": [
    "### Slack\n",
    "\n",
    "Slack is the primary way we'll keep in touch over the semester: https://eds-uga-cbio4835.slack.com/\n",
    "\n",
    "I'll post announcements in the `#announcements` channel (please keep it clear).\n",
    "\n",
    "If you have any questions related to course concepts or homework problems, please post in `#questions`.\n",
    "\n",
    "If you're unable to log in, or are getting strange errors you can't diagnose, let me know in `#techprobs`.\n",
    "\n",
    "Finally, if you found a certain topic in class interesting and want to discuss it further, or found a cool article related to computational biology, or something else entirely, feel free to strike up a discussion in the `#lounge`.\n",
    "\n",
    "You can also DM me or your classmates directly."
   ]
  },
  {
   "cell_type": "markdown",
   "metadata": {
    "slideshow": {
     "slide_type": "slide"
    }
   },
   "source": [
    "### Office Hours\n",
    "\n",
    "My office is located in Boyd GSRC, room 638A.\n",
    "\n",
    "I have not yet scheduled my office hours; I will post in Slack when that happens (and update the syllabus and website).\n",
    "\n",
    "You are also welcome to set up a separate appointment with me; DM me over Slack or shoot me an email to set up a time to meet."
   ]
  },
  {
   "cell_type": "markdown",
   "metadata": {
    "slideshow": {
     "slide_type": "slide"
    }
   },
   "source": [
    "### Academic Honesty\n",
    "\n",
    "Do your own work.\n",
    "\n",
    "Programming and coding is a lot like writing--everyone has their own style, so it's very easy to spot copied work.\n",
    "\n",
    "That said, please do discuss concepts and problem solving strategies, either during in-person group meetings or over group chats on Slack.\n",
    "\n",
    "One reason I like Slack is because I can jump in when I see a question, but if I'm otherwise occupied someone else might answer it first."
   ]
  },
  {
   "cell_type": "markdown",
   "metadata": {
    "slideshow": {
     "slide_type": "slide"
    }
   },
   "source": [
    "## Pre-test\n",
    "\n",
    "This is an ungraded survey that will help me to assess everyone's background and properly calibrate the course. It's ungraded, but it is **required that everyone finish it by Tuesday's lecture.** (Let's call it: \"Assignment 0\")\n",
    "\n",
    "https://docs.google.com/forms/d/1ka9yH5G3bOCfdJUTaeZXV2BdtvqqsiPaxnvKI2f4YK4/"
   ]
  },
  {
   "cell_type": "markdown",
   "metadata": {
    "slideshow": {
     "slide_type": "slide"
    }
   },
   "source": [
    "## Administrivia\n",
    "\n",
    " - Finish the pre-test by next Tuesday!\n",
    " \n",
    " - Next Tuesday we'll resume our regularly-scheduled lecture time at 9:30am in Pharmacy 238."
   ]
  },
  {
   "cell_type": "markdown",
   "metadata": {
    "slideshow": {
     "slide_type": "slide"
    }
   },
   "source": [
    "## Questions?\n",
    "\n",
    " - Questions? Check the course website: https://eds-uga.github.io/cbio4835-sp17\n",
    " \n",
    " - Still more questions? Ask on the Slack chat: https://eds-uga-cbio4835.slack.com/\n",
    " \n",
    " - Still more questions? Email me: [squinn@cs.uga.edu](mailto:squinn@cs.uga.edu) (include **CBIO 4835** or **CBIO 6835** in the Subject line so it hits my filters)\n",
    " \n",
    " - Still more questions? [Erm...](https://www.sadtrombone.com/)\n",
    " \n",
    "<img src=\"http://m.memegen.com/4hwmg3.jpg\" />"
   ]
  }
 ],
 "metadata": {
  "celltoolbar": "Slideshow",
  "kernelspec": {
   "display_name": "Python 3",
   "language": "python",
   "name": "python3"
  },
  "language_info": {
   "codemirror_mode": {
    "name": "ipython",
    "version": 3
   },
   "file_extension": ".py",
   "mimetype": "text/x-python",
   "name": "python",
   "nbconvert_exporter": "python",
   "pygments_lexer": "ipython3",
   "version": "3.5.2"
  }
 },
 "nbformat": 4,
 "nbformat_minor": 2
}
