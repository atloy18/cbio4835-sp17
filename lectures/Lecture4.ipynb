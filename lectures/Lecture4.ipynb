{
 "cells": [
  {
   "cell_type": "markdown",
   "metadata": {
    "slideshow": {
     "slide_type": "slide"
    }
   },
   "source": [
    "# Lecture 4: Data Structures, Loops, and Conditionals\n",
    "\n",
    "CBIO (CSCI) 4835/6835: Introduction to Computational Biology"
   ]
  },
  {
   "cell_type": "markdown",
   "metadata": {
    "slideshow": {
     "slide_type": "slide"
    }
   },
   "source": [
    "## Overview and Objectives\n",
    "\n",
    "In this lecture, we'll go over the different collections of objects that Python natively supports. In previous lectures we dealt only with single strings, ints, and floats; now we'll be able to handle arbitrarily large numbers of them. By the end of the lecture, you should be able to\n",
    "\n",
    " - Describe the differences between sets, tuples, lists, and dictionaries\n",
    " - Perform basic arithmetic operations using arbitrary-length collections\n",
    " - Describe the differences between the separate kinds of loops\n",
    " - Build arbitrary conditional hierarchies to test a variety of possible circumstances\n",
    " - Construct elementary boolean logic statements"
   ]
  },
  {
   "cell_type": "markdown",
   "metadata": {
    "slideshow": {
     "slide_type": "slide"
    }
   },
   "source": [
    "## Part 1: Beyond Numerical Variables\n",
    "\n",
    "Lists are probably the most basic data structure in Python; they contain ordered elements and can be of abitrary length. Other languages may refer to this basic structure as an \"array\", and indeed there are similarities. But for our purposes and anytime you're coding in Python, we'll use the term \"list.\"\n",
    "\n",
    "When I say \"data structures,\" I mean any *type* that is more sophisticated than the `int`s and `float`s we've been working with up until now. I purposefully omitted `str`s, because they are in fact a data structure unto themselves: they build on the single character, and are effective a \"list of characters.\" In much the same way, we'll see in this lecture how to define a \"list of `int`s\", a \"list of `float`s\", and even a \"list of `str`s\"!\n",
    "\n",
    "Anything in Python that holds an arbitrary number of simpler objects is known as a **collection**. Today we'll discuss four different kinds of collections: lists, sets, tuples, and dictionaries."
   ]
  },
  {
   "cell_type": "markdown",
   "metadata": {
    "slideshow": {
     "slide_type": "slide"
    }
   },
   "source": [
    "Lists in Python have a few core properties:\n",
    "\n",
    " - **Ordered.** This means the list structure maintains an instrinic ordering of the elements held inside.\n",
    " - **Mutable.** This means the structure of the list can change; elements can be added, removed, or changed in-place."
   ]
  },
  {
   "cell_type": "code",
   "execution_count": 1,
   "metadata": {
    "collapsed": false,
    "slideshow": {
     "slide_type": "-"
    }
   },
   "outputs": [
    {
     "name": "stdout",
     "output_type": "stream",
     "text": [
      "[]\n"
     ]
    }
   ],
   "source": [
    "x = list()\n",
    "print(x)"
   ]
  },
  {
   "cell_type": "markdown",
   "metadata": {
    "slideshow": {
     "slide_type": "-"
    }
   },
   "source": [
    "Here I've defined an empty list, called `x`. Like our previous variables, this has both a name (`x`) and a type (`list`). However, it doesn't have any actual value beyond that; it's just an empty list. Imagine a filing cabinet with nothing in it."
   ]
  },
  {
   "cell_type": "markdown",
   "metadata": {
    "slideshow": {
     "slide_type": "slide"
    }
   },
   "source": [
    "So how do we add things? Lists, as it turns out, have a few *methods* we can invoke (methods are pieces of functionality that we'll cover more when we get to functions). Here's a useful one:"
   ]
  },
  {
   "cell_type": "code",
   "execution_count": 2,
   "metadata": {
    "collapsed": true,
    "slideshow": {
     "slide_type": "-"
    }
   },
   "outputs": [],
   "source": [
    "x.append(1)"
   ]
  },
  {
   "cell_type": "markdown",
   "metadata": {
    "slideshow": {
     "slide_type": "-"
    }
   },
   "source": [
    "The `append()` method takes whatever argument I supply to the function, and inserts it into the next available position in the list. Which, in this case, is the very first position (since the list was previously empty)."
   ]
  },
  {
   "cell_type": "markdown",
   "metadata": {
    "slideshow": {
     "slide_type": "slide"
    }
   },
   "source": [
    "What does our list look like now?"
   ]
  },
  {
   "cell_type": "code",
   "execution_count": 3,
   "metadata": {
    "collapsed": false,
    "slideshow": {
     "slide_type": "-"
    }
   },
   "outputs": [
    {
     "name": "stdout",
     "output_type": "stream",
     "text": [
      "[1]\n"
     ]
    }
   ],
   "source": [
    "print(x)"
   ]
  },
  {
   "cell_type": "markdown",
   "metadata": {
    "slideshow": {
     "slide_type": "-"
    }
   },
   "source": [
    "It's tough to tell that there's really anything going on, but those square brackets `[` and `]` are the key: those denote a list, and anything inside those brackets is an element of the list."
   ]
  },
  {
   "cell_type": "markdown",
   "metadata": {
    "slideshow": {
     "slide_type": "slide"
    }
   },
   "source": [
    "Let's look at another list, a bit more interesting this time."
   ]
  },
  {
   "cell_type": "code",
   "execution_count": 4,
   "metadata": {
    "collapsed": false,
    "slideshow": {
     "slide_type": "-"
    }
   },
   "outputs": [
    {
     "name": "stdout",
     "output_type": "stream",
     "text": [
      "[1, 2, 3]\n"
     ]
    }
   ],
   "source": [
    "y = list()\n",
    "y.append(1)\n",
    "y.append(2)\n",
    "y.append(3)\n",
    "print(y)"
   ]
  },
  {
   "cell_type": "markdown",
   "metadata": {
    "slideshow": {
     "slide_type": "-"
    }
   },
   "source": [
    "In this example, I've created a new list `y`, initially empty, and added three integer values. Notice the ordering of the elements when I print the list at the end: from left-to-right, you'll see the elements in the order that they were added."
   ]
  },
  {
   "cell_type": "markdown",
   "metadata": {
    "slideshow": {
     "slide_type": "slide"
    }
   },
   "source": [
    "You can put any elements you want into a list. If you wanted, you could add strings, floats, and even other lists!"
   ]
  },
  {
   "cell_type": "code",
   "execution_count": 5,
   "metadata": {
    "collapsed": false,
    "slideshow": {
     "slide_type": "-"
    }
   },
   "outputs": [
    {
     "name": "stdout",
     "output_type": "stream",
     "text": [
      "[1, 2, 3, 'this is perfectly legal']\n",
      "[1, 2, 3, 'this is perfectly legal', 4.2]\n",
      "[1, 2, 3, 'this is perfectly legal', 4.2, []]\n"
     ]
    }
   ],
   "source": [
    "y.append(\"this is perfectly legal\")\n",
    "print(y)\n",
    "\n",
    "y.append(4.2)\n",
    "print(y)\n",
    "\n",
    "y.append(list())  # Inception BWAAAAAAAAAA\n",
    "print(y)"
   ]
  },
  {
   "cell_type": "markdown",
   "metadata": {
    "slideshow": {
     "slide_type": "slide"
    }
   },
   "source": [
    "### Indexing\n",
    "\n",
    "So I have these lists and I've stored some things in them. I can print them out and see what I've stored...but so far they seem pretty unwieldy. How do I remove things? If someone asks me for whatever was added 3$^{rd}$, how do I give that to them without giving them the whole list?\n",
    "\n",
    "The answers to these questions involve *indexing.* Indexing is what happens when you refer to an existing element in a list. For example, in our hybrid list `y` with lots of random stuff in it, what's the first element?"
   ]
  },
  {
   "cell_type": "code",
   "execution_count": 6,
   "metadata": {
    "collapsed": false,
    "slideshow": {
     "slide_type": "-"
    }
   },
   "outputs": [
    {
     "name": "stdout",
     "output_type": "stream",
     "text": [
      "1\n",
      "[1, 2, 3, 'this is perfectly legal', 4.2, []]\n"
     ]
    }
   ],
   "source": [
    "first_element = y[0]\n",
    "print(first_element)\n",
    "print(y)"
   ]
  },
  {
   "cell_type": "markdown",
   "metadata": {
    "slideshow": {
     "slide_type": "slide"
    }
   },
   "source": [
    "Python and its spiritual progenitors C and C++ are known as *zero-indexed* languages. This means when you're dealing with lists or arrays, the index of the first element is always **0**.\n",
    "\n",
    "This stands in contrast with languages such as Julia and Matlab, where the index of the first element of a list or array is, indeed, 1. Preference for one or the other tends to covary with whatever you were first taught, though in scientific circles it's generally preferred that languages be 0-indexed$^{[\\text{citation needed}]}$.\n",
    "\n",
    "**This little caveat is usually the main culprit of errors for new programmers.** Give yourself some time to get used to Python's 0-indexed lists. You'll see what I mean when we get to loops."
   ]
  },
  {
   "cell_type": "markdown",
   "metadata": {
    "slideshow": {
     "slide_type": "slide"
    }
   },
   "source": [
    "In addition to elements 0 and 1, we can also directly index elements at the *end* of the list. "
   ]
  },
  {
   "cell_type": "code",
   "execution_count": 7,
   "metadata": {
    "collapsed": false,
    "slideshow": {
     "slide_type": "-"
    }
   },
   "outputs": [
    {
     "name": "stdout",
     "output_type": "stream",
     "text": [
      "[]\n",
      "[1, 2, 3, 'this is perfectly legal', 4.2, []]\n"
     ]
    }
   ],
   "source": [
    "print(y[-1])\n",
    "print(y)"
   ]
  },
  {
   "cell_type": "markdown",
   "metadata": {
    "slideshow": {
     "slide_type": "-"
    }
   },
   "source": [
    "You can think of this indexing strategy as \"wrapping around\" the list to the end of it. Similarly, you can also negate other numbers to access the second-to-last element, third-to-last element..."
   ]
  },
  {
   "cell_type": "code",
   "execution_count": 8,
   "metadata": {
    "collapsed": false,
    "slideshow": {
     "slide_type": "-"
    }
   },
   "outputs": [
    {
     "name": "stdout",
     "output_type": "stream",
     "text": [
      "4.2\n",
      "this is perfectly legal\n",
      "[1, 2, 3, 'this is perfectly legal', 4.2, []]\n"
     ]
    }
   ],
   "source": [
    "print(y[-2])\n",
    "print(y[-3])\n",
    "print(y)"
   ]
  },
  {
   "cell_type": "markdown",
   "metadata": {
    "slideshow": {
     "slide_type": "slide"
    }
   },
   "source": [
    "Another very useful method is `len`, which tells you how many elements are in your list."
   ]
  },
  {
   "cell_type": "code",
   "execution_count": 9,
   "metadata": {
    "collapsed": false
   },
   "outputs": [
    {
     "name": "stdout",
     "output_type": "stream",
     "text": [
      "6\n"
     ]
    }
   ],
   "source": [
    "num = len(y)\n",
    "print(num)"
   ]
  },
  {
   "cell_type": "markdown",
   "metadata": {},
   "source": [
    "Because lists in Python are 0-indexed, what would the *positive* integer index of the last element in a list be?"
   ]
  },
  {
   "cell_type": "markdown",
   "metadata": {
    "slideshow": {
     "slide_type": "slide"
    }
   },
   "source": [
    "### Slicing\n",
    "\n",
    "Using more indexing voodoo, you can also index *slices* of lists. Let's say we want to create a new list that consists of the integer elements of `y`, which are the first three. We could pull them out one by one, or use slicing:"
   ]
  },
  {
   "cell_type": "code",
   "execution_count": 10,
   "metadata": {
    "collapsed": false,
    "slideshow": {
     "slide_type": "-"
    }
   },
   "outputs": [
    {
     "name": "stdout",
     "output_type": "stream",
     "text": [
      "[1, 2, 3, 'this is perfectly legal', 4.2, []]\n",
      "[1, 2, 3]\n"
     ]
    }
   ],
   "source": [
    "int_elements = y[0:3]  # Slicing!\n",
    "print(y)\n",
    "print(int_elements)"
   ]
  },
  {
   "cell_type": "code",
   "execution_count": 11,
   "metadata": {
    "collapsed": false,
    "slideshow": {
     "slide_type": "slide"
    }
   },
   "outputs": [
    {
     "name": "stdout",
     "output_type": "stream",
     "text": [
      "[1, 2, 3, 'this is perfectly legal', 4.2, []]\n",
      "[1, 2, 3]\n"
     ]
    }
   ],
   "source": [
    "int_elements = y[0:3]  # Slicing!\n",
    "print(y)\n",
    "print(int_elements)"
   ]
  },
  {
   "cell_type": "markdown",
   "metadata": {
    "slideshow": {
     "slide_type": "-"
    }
   },
   "source": [
    "That `y[0:3]` notation is the slicing. The first number, 0, indicates the first index of values we want to keep. The colon `:` indicates slicing, and the second number, 3, indicates the last index of values.\n",
    "\n",
    "You could even say this out loud: \"With list `y`, slice starting at index 0 to index 3.\" The colon is the \"to\".\n",
    "\n",
    "When you slice an array, the first (starting) index is *inclusive*; the second (ending) index, however, is *exclusive*. In mathematical notation, it would look something like this:\n",
    "\n",
    "$[ starting : ending )$\n",
    "\n",
    "Therefore, the end index is one *after* the last index you want to keep."
   ]
  },
  {
   "cell_type": "markdown",
   "metadata": {
    "slideshow": {
     "slide_type": "slide"
    }
   },
   "source": [
    "### One more thing about lists\n",
    "\n",
    "You don't always have to start with empty lists. You can pre-define a full list; just use brackets!"
   ]
  },
  {
   "cell_type": "code",
   "execution_count": 12,
   "metadata": {
    "collapsed": false,
    "slideshow": {
     "slide_type": "-"
    }
   },
   "outputs": [
    {
     "name": "stdout",
     "output_type": "stream",
     "text": [
      "[42, 502.4, 'some string', 0]\n"
     ]
    }
   ],
   "source": [
    "z = [42, 502.4, \"some string\", 0]\n",
    "print(z)"
   ]
  },
  {
   "cell_type": "markdown",
   "metadata": {
    "slideshow": {
     "slide_type": "slide"
    }
   },
   "source": [
    "### Sets and Tuples\n",
    "\n",
    "If you understood lists, sets and tuples are easy-peasy. They're both exactly the same as lists...**except:**\n",
    "\n",
    "*Tuples*:\n",
    " - **Immutable**. Once you construct a tuple, it cannot be changed.\n",
    "\n",
    "*Sets*:\n",
    " - **Distinct**. Sets cannot contain two identical elements.\n",
    " - **Unordered**. Sets don't index the same way lists do.\n",
    "\n",
    "Other than these two rules, pretty much anything you can do with lists can also be done with tuples and sets."
   ]
  },
  {
   "cell_type": "markdown",
   "metadata": {
    "slideshow": {
     "slide_type": "slide"
    }
   },
   "source": [
    "Whereas we used square brackets to create a list, we use regular parentheses to create a tuple!"
   ]
  },
  {
   "cell_type": "code",
   "execution_count": 13,
   "metadata": {
    "collapsed": false,
    "slideshow": {
     "slide_type": "-"
    }
   },
   "outputs": [
    {
     "name": "stdout",
     "output_type": "stream",
     "text": [
      "<class 'list'>\n",
      "<class 'tuple'>\n"
     ]
    }
   ],
   "source": [
    "x = [3, 64.2, \"some list\"]\n",
    "print(type(x))\n",
    "\n",
    "y = (3, 64.2, \"some tuple\")\n",
    "print(type(y))"
   ]
  },
  {
   "cell_type": "markdown",
   "metadata": {
    "slideshow": {
     "slide_type": "slide"
    }
   },
   "source": [
    "With lists, if you wanted to change the item at index 2, you could go right ahead. But with tuples, you'll get an error."
   ]
  },
  {
   "cell_type": "code",
   "execution_count": 14,
   "metadata": {
    "collapsed": false,
    "slideshow": {
     "slide_type": "-"
    }
   },
   "outputs": [
    {
     "name": "stdout",
     "output_type": "stream",
     "text": [
      "[3, 64.2, 'a different string']\n"
     ]
    }
   ],
   "source": [
    "x[2] = \"a different string\"\n",
    "print(x)\n",
    "\n",
    "#y[2] = \"does this work?\""
   ]
  },
  {
   "cell_type": "markdown",
   "metadata": {
    "slideshow": {
     "slide_type": "slide"
    }
   },
   "source": [
    "Like `list`, there is a method for building an empty `tuple`. And like lists, you have (almost) all of the other methods at your disposal, such as slicing and `len`:"
   ]
  },
  {
   "cell_type": "code",
   "execution_count": 15,
   "metadata": {
    "collapsed": false,
    "slideshow": {
     "slide_type": "-"
    }
   },
   "outputs": [
    {
     "name": "stdout",
     "output_type": "stream",
     "text": [
      "(3, 64.2)\n",
      "3\n"
     ]
    }
   ],
   "source": [
    "z = tuple()\n",
    "\n",
    "print(y[0:2])\n",
    "print(len(y))"
   ]
  },
  {
   "cell_type": "markdown",
   "metadata": {
    "slideshow": {
     "slide_type": "slide"
    }
   },
   "source": [
    "### Sets\n",
    "\n",
    "Sets are interesting buggers, in that they only allow you to store a particular element *once*."
   ]
  },
  {
   "cell_type": "code",
   "execution_count": 16,
   "metadata": {
    "collapsed": true,
    "slideshow": {
     "slide_type": "-"
    }
   },
   "outputs": [],
   "source": [
    "x = list()\n",
    "x.append(1)\n",
    "x.append(2)\n",
    "x.append(2)  # Add the same thing twice.\n",
    "\n",
    "s = set()\n",
    "s.add(1)\n",
    "s.add(2)\n",
    "s.add(2)  # Add the same thing twice...again."
   ]
  },
  {
   "cell_type": "code",
   "execution_count": 17,
   "metadata": {
    "collapsed": false,
    "slideshow": {
     "slide_type": "fragment"
    }
   },
   "outputs": [
    {
     "name": "stdout",
     "output_type": "stream",
     "text": [
      "[1, 2, 2]\n",
      "{1, 2}\n"
     ]
    }
   ],
   "source": [
    "print(x)\n",
    "\n",
    "print(s)"
   ]
  },
  {
   "cell_type": "markdown",
   "metadata": {
    "slideshow": {
     "slide_type": "slide"
    }
   },
   "source": [
    "There are certain situations where this can be very useful. It should be noted that sets can actually be built from lists, so you can build a list and then turn it into a set:"
   ]
  },
  {
   "cell_type": "code",
   "execution_count": 18,
   "metadata": {
    "collapsed": false,
    "slideshow": {
     "slide_type": "-"
    }
   },
   "outputs": [
    {
     "name": "stdout",
     "output_type": "stream",
     "text": [
      "{1, 2, 3}\n"
     ]
    }
   ],
   "source": [
    "x = [1, 2, 3, 3]\n",
    "s = set(x)  # Take the list x as the starting point.\n",
    "print(s)"
   ]
  },
  {
   "cell_type": "markdown",
   "metadata": {
    "slideshow": {
     "slide_type": "slide"
    }
   },
   "source": [
    "Sets also don't index the same way lists and tuples do:"
   ]
  },
  {
   "cell_type": "code",
   "execution_count": 19,
   "metadata": {
    "collapsed": false,
    "slideshow": {
     "slide_type": "-"
    }
   },
   "outputs": [],
   "source": [
    "# Literally causes an error:\n",
    "#s[0]"
   ]
  },
  {
   "cell_type": "markdown",
   "metadata": {
    "slideshow": {
     "slide_type": "-"
    }
   },
   "source": [
    "If you want to add elements to a set, you can use the `add` method.\n",
    "\n",
    "If you want to remove elements from a set, you can use the `discard` or `remove` methods.\n",
    "\n",
    "But you *can't index or slice a set.*"
   ]
  },
  {
   "cell_type": "markdown",
   "metadata": {
    "slideshow": {
     "slide_type": "slide"
    }
   },
   "source": [
    "### So why is a `set` useful?\n",
    "\n",
    "It's useful for checking if you've seen a particular *kind* of thing at least once. This is known as **membership testing**--and we'll wait just a few more slides before delving into it. First, one more data structure."
   ]
  },
  {
   "cell_type": "markdown",
   "metadata": {
    "slideshow": {
     "slide_type": "slide"
    }
   },
   "source": [
    "### Dictionaries\n",
    "\n",
    "The basic idea of all these data type abstractions is to map a *key* to a *value*, in such a way that if you have a certain key, you always get back the value associated with that key.\n",
    "\n",
    "You can also think of dictionaries as unordered lists with more interesting indices."
   ]
  },
  {
   "cell_type": "markdown",
   "metadata": {
    "slideshow": {
     "slide_type": "slide"
    }
   },
   "source": [
    "A few important points on dictionaries before we get into examples:\n",
    "\n",
    " - **Mutable**. Dictionaries can be changed and updated.\n",
    " - **Unordered**. Elements in dictionaries have no concept of ordering.\n",
    " - **Keys are distinct**. The *keys* of dictionaries are unique; no key is ever copied. The *values*, however, can be copied as many times as you want.\n",
    "\n",
    "Dictionaries are created using the `dict()` method, or using curly braces: "
   ]
  },
  {
   "cell_type": "code",
   "execution_count": 20,
   "metadata": {
    "collapsed": true,
    "slideshow": {
     "slide_type": "-"
    }
   },
   "outputs": [],
   "source": [
    "d = dict()\n",
    "# Or...\n",
    "d = {}"
   ]
  },
  {
   "cell_type": "markdown",
   "metadata": {
    "slideshow": {
     "slide_type": "slide"
    }
   },
   "source": [
    "New elements can be added to the dictionary in much the same way as lists:"
   ]
  },
  {
   "cell_type": "code",
   "execution_count": 21,
   "metadata": {
    "collapsed": false,
    "slideshow": {
     "slide_type": "-"
    }
   },
   "outputs": [
    {
     "name": "stdout",
     "output_type": "stream",
     "text": [
      "{'shannon_quinn': ['some', 'personal', 'information'], 'some_key': 14.3}\n"
     ]
    }
   ],
   "source": [
    "d[\"some_key\"] = 14.3\n",
    "\n",
    "d[\"shannon_quinn\"] = [\"some\", \"personal\", \"information\"]\n",
    "print(d)"
   ]
  },
  {
   "cell_type": "markdown",
   "metadata": {
    "slideshow": {
     "slide_type": "slide"
    }
   },
   "source": [
    "Since dictionaries do not maintain any kind of ordering of elements, using integers as indices won't give us anything useful. However, dictionaries do have a `keys()` method that gives us a **list** of all the keys in the dictionary:\n",
    "\n",
    "and a `values()` method for (you guessed it) the values in the dictionary:"
   ]
  },
  {
   "cell_type": "code",
   "execution_count": 22,
   "metadata": {
    "collapsed": false,
    "slideshow": {
     "slide_type": "-"
    }
   },
   "outputs": [
    {
     "name": "stdout",
     "output_type": "stream",
     "text": [
      "dict_keys(['shannon_quinn', 'some_key'])\n",
      "dict_values([['some', 'personal', 'information'], 14.3])\n"
     ]
    }
   ],
   "source": [
    "print(d.keys())\n",
    "\n",
    "print(d.values())"
   ]
  },
  {
   "cell_type": "markdown",
   "metadata": {
    "slideshow": {
     "slide_type": "slide"
    }
   },
   "source": [
    "To further induce Inception-style headaches, dictionaries also have a `items()` method that returns a **list** of **tuples** where each tuple is a key-value pair in the dictionary!\n",
    "\n",
    "(it's basically the entire dictionary, but this method is useful for looping)"
   ]
  },
  {
   "cell_type": "code",
   "execution_count": 23,
   "metadata": {
    "collapsed": false,
    "slideshow": {
     "slide_type": "-"
    }
   },
   "outputs": [
    {
     "name": "stdout",
     "output_type": "stream",
     "text": [
      "dict_items([('shannon_quinn', ['some', 'personal', 'information']), ('some_key', 14.3)])\n"
     ]
    }
   ],
   "source": [
    "print(d.items())"
   ]
  },
  {
   "cell_type": "markdown",
   "metadata": {
    "slideshow": {
     "slide_type": "slide"
    }
   },
   "source": [
    "Now, back to why sets--or any data structure, really--are useful for testing if we've seen something before."
   ]
  },
  {
   "cell_type": "code",
   "execution_count": 24,
   "metadata": {
    "collapsed": false,
    "slideshow": {
     "slide_type": "-"
    }
   },
   "outputs": [
    {
     "name": "stdout",
     "output_type": "stream",
     "text": [
      "True\n",
      "False\n"
     ]
    }
   ],
   "source": [
    "s = set([1, 3, 6, 2, 5, 8, 8, 3, 2, 3, 10])\n",
    "\n",
    "print(10 in s)  # Basically asking: is 10 in our set?\n",
    "\n",
    "print(11 in s)"
   ]
  },
  {
   "cell_type": "markdown",
   "metadata": {
    "slideshow": {
     "slide_type": "slide"
    }
   },
   "source": [
    "### Membership testing\n",
    "\n",
    "`in` and `not in` can be used to see if an object or particular value is in a collection."
   ]
  },
  {
   "cell_type": "code",
   "execution_count": 25,
   "metadata": {
    "collapsed": true
   },
   "outputs": [],
   "source": [
    "l = [1,2,3]"
   ]
  },
  {
   "cell_type": "code",
   "execution_count": 26,
   "metadata": {
    "collapsed": false
   },
   "outputs": [
    {
     "data": {
      "text/plain": [
       "True"
      ]
     },
     "execution_count": 26,
     "metadata": {},
     "output_type": "execute_result"
    }
   ],
   "source": [
    "1 in l"
   ]
  },
  {
   "cell_type": "code",
   "execution_count": 27,
   "metadata": {
    "collapsed": false
   },
   "outputs": [
    {
     "data": {
      "text/plain": [
       "False"
      ]
     },
     "execution_count": 27,
     "metadata": {},
     "output_type": "execute_result"
    }
   ],
   "source": [
    "345 in l"
   ]
  },
  {
   "cell_type": "code",
   "execution_count": 28,
   "metadata": {
    "collapsed": false
   },
   "outputs": [
    {
     "data": {
      "text/plain": [
       "True"
      ]
     },
     "execution_count": 28,
     "metadata": {},
     "output_type": "execute_result"
    }
   ],
   "source": [
    "\"1\" not in l"
   ]
  },
  {
   "cell_type": "code",
   "execution_count": 29,
   "metadata": {
    "collapsed": false
   },
   "outputs": [
    {
     "data": {
      "text/plain": [
       "True"
      ]
     },
     "execution_count": 29,
     "metadata": {},
     "output_type": "execute_result"
    }
   ],
   "source": [
    "\"good\" in \"goodness\"  # Yep, strings are considered \"collections\"!"
   ]
  },
  {
   "cell_type": "markdown",
   "metadata": {
    "slideshow": {
     "slide_type": "slide"
    }
   },
   "source": [
    "## Questions on Data Structures?\n",
    "\n",
    " - Lists\n",
    " - Sets\n",
    " - Tuples\n",
    " - Dictionaries\n",
    " - Membership testing"
   ]
  },
  {
   "cell_type": "markdown",
   "metadata": {
    "slideshow": {
     "slide_type": "slide"
    }
   },
   "source": [
    "## Part 2: Loops\n",
    "\n",
    "Looping, like lists, is a critical component in programming and data science. When we're training models on data, we'll need to loop over each data point, examining it in turn and adjusting our model accordingly *regardless of how many data points there are*. This kind of repetitive task is ideal for looping.\n",
    "\n",
    "The structure of loops is pretty simple:\n",
    " - some collection of \"things\" to iterate over\n",
    " - a placeholder for the current \"thing\" we're working on\n",
    " - a chunk of code describing what to do with the current \"thing\""
   ]
  },
  {
   "cell_type": "code",
   "execution_count": 30,
   "metadata": {
    "collapsed": false
   },
   "outputs": [
    {
     "name": "stdout",
     "output_type": "stream",
     "text": [
      "a\n",
      "b\n",
      "c\n",
      "d\n",
      "e\n",
      "f\n",
      "g\n"
     ]
    }
   ],
   "source": [
    "letters = ['a','b','c','d','e','f','g']\n",
    "for i in letters: #for every item in this collection...\n",
    "    print(i) #...execute this block of code with i set to the object"
   ]
  },
  {
   "cell_type": "markdown",
   "metadata": {
    "slideshow": {
     "slide_type": "slide"
    }
   },
   "source": [
    "There are two main parts to the loop: the **header** and the **body**.\n",
    "\n",
    " - The **header** contains 1) the collection we're iterating over (in this example, the list), and 2) the \"placeholder\" we're using to hold the current value (in this example, `i`).\n",
    " - The **body** is the chunk of code under the header (indented!) that executes on each iteration."
   ]
  },
  {
   "cell_type": "markdown",
   "metadata": {
    "slideshow": {
     "slide_type": "slide"
    }
   },
   "source": [
    "### `for` and `while`\n",
    "\n",
    "There are two types of loops. `for` loops iterate over a collection of items; in contrast, `while` loops iterate while some condition evaluates to `True`."
   ]
  },
  {
   "cell_type": "code",
   "execution_count": 31,
   "metadata": {
    "collapsed": false
   },
   "outputs": [
    {
     "name": "stdout",
     "output_type": "stream",
     "text": [
      "0\n",
      "1\n",
      "2\n"
     ]
    }
   ],
   "source": [
    "i = 0\n",
    "while i < 3: #as long as this condition is true...\n",
    "    print(i) #...execute this block of code\n",
    "    i += 1   "
   ]
  },
  {
   "cell_type": "markdown",
   "metadata": {
    "slideshow": {
     "slide_type": "-"
    }
   },
   "source": [
    "**Word of warning with `while` loops**: Don't forget to update the condition variable!"
   ]
  },
  {
   "cell_type": "markdown",
   "metadata": {
    "slideshow": {
     "slide_type": "slide"
    }
   },
   "source": [
    "### Looping with indices (indexes?)\n",
    "\n",
    "The preferred method of looping is to use a `for` loop.  There are a number of builtin functions to help create collections to iterate over."
   ]
  },
  {
   "cell_type": "code",
   "execution_count": 32,
   "metadata": {
    "collapsed": false
   },
   "outputs": [
    {
     "data": {
      "text/plain": [
       "range(0, 3)"
      ]
     },
     "execution_count": 32,
     "metadata": {},
     "output_type": "execute_result"
    }
   ],
   "source": [
    "range(3)"
   ]
  },
  {
   "cell_type": "code",
   "execution_count": 33,
   "metadata": {
    "collapsed": false
   },
   "outputs": [
    {
     "data": {
      "text/plain": [
       "range(1, 10)"
      ]
     },
     "execution_count": 33,
     "metadata": {},
     "output_type": "execute_result"
    }
   ],
   "source": [
    "range(1,10)"
   ]
  },
  {
   "cell_type": "code",
   "execution_count": 34,
   "metadata": {
    "collapsed": false
   },
   "outputs": [
    {
     "data": {
      "text/plain": [
       "range(1, 10, 3)"
      ]
     },
     "execution_count": 34,
     "metadata": {},
     "output_type": "execute_result"
    }
   ],
   "source": [
    "range(1,10,3)"
   ]
  },
  {
   "cell_type": "markdown",
   "metadata": {
    "slideshow": {
     "slide_type": "slide"
    }
   },
   "source": [
    "What's the value of `val`?"
   ]
  },
  {
   "cell_type": "code",
   "execution_count": 35,
   "metadata": {
    "collapsed": true
   },
   "outputs": [],
   "source": [
    "val = 0\n",
    "for i in range(100):\n",
    "    val += i"
   ]
  },
  {
   "cell_type": "code",
   "execution_count": 36,
   "metadata": {
    "collapsed": false,
    "slideshow": {
     "slide_type": "fragment"
    }
   },
   "outputs": [
    {
     "name": "stdout",
     "output_type": "stream",
     "text": [
      "4950\n"
     ]
    }
   ],
   "source": [
    "print(val)"
   ]
  },
  {
   "cell_type": "markdown",
   "metadata": {
    "slideshow": {
     "slide_type": "slide"
    }
   },
   "source": [
    "### `break` and `continue`\n",
    "\n",
    "`break` will exit out of the entire loop, while `continue` will skip to the next iteration."
   ]
  },
  {
   "cell_type": "code",
   "execution_count": 37,
   "metadata": {
    "collapsed": false
   },
   "outputs": [
    {
     "name": "stdout",
     "output_type": "stream",
     "text": [
      "6\n"
     ]
    }
   ],
   "source": [
    "i = 0\n",
    "while True:\n",
    "    i += 1\n",
    "    if i < 6:\n",
    "        continue\n",
    "    print(i)\n",
    "    if i > 4:\n",
    "        break"
   ]
  },
  {
   "cell_type": "markdown",
   "metadata": {
    "slideshow": {
     "slide_type": "slide"
    }
   },
   "source": [
    "## Part 3: Conditionals\n",
    "\n",
    "Also known as \"`if` statements\". These *conditionally* execute a block of code.\n",
    "\n",
    " - The condition is some Boolean value\n",
    " - A block of code is delineated by consistent indentation.\n",
    " - Blank lines and comments will not end a block\n",
    " - *Whitespace is significant - do not mix tabs and spaces*\n",
    "\n",
    "In an `if..elif..else` statement, only one block of code will be executed "
   ]
  },
  {
   "cell_type": "code",
   "execution_count": 38,
   "metadata": {
    "collapsed": false
   },
   "outputs": [
    {
     "name": "stdout",
     "output_type": "stream",
     "text": [
      "2\n"
     ]
    }
   ],
   "source": [
    "if False:\n",
    "    print(\"1\")\n",
    "elif True:\n",
    "    print(\"2\")\n",
    "else:\n",
    "    print(\"3\")"
   ]
  },
  {
   "cell_type": "markdown",
   "metadata": {
    "slideshow": {
     "slide_type": "slide"
    }
   },
   "source": [
    "### Comparison Operators\n",
    "\n",
    "Remember these? They return a Boolean value: <strong><tt><,>,!=,==,<=,>=</tt></strong>"
   ]
  },
  {
   "cell_type": "code",
   "execution_count": 39,
   "metadata": {
    "collapsed": false
   },
   "outputs": [
    {
     "data": {
      "text/plain": [
       "True"
      ]
     },
     "execution_count": 39,
     "metadata": {},
     "output_type": "execute_result"
    }
   ],
   "source": [
    "1 < 3"
   ]
  },
  {
   "cell_type": "code",
   "execution_count": 40,
   "metadata": {
    "collapsed": false
   },
   "outputs": [
    {
     "data": {
      "text/plain": [
       "True"
      ]
     },
     "execution_count": 40,
     "metadata": {},
     "output_type": "execute_result"
    }
   ],
   "source": [
    "\"hello\" != \"hi\""
   ]
  },
  {
   "cell_type": "code",
   "execution_count": 41,
   "metadata": {
    "collapsed": false
   },
   "outputs": [
    {
     "data": {
      "text/plain": [
       "True"
      ]
     },
     "execution_count": 41,
     "metadata": {},
     "output_type": "execute_result"
    }
   ],
   "source": [
    "[1,2,3] == [1,2,3]"
   ]
  },
  {
   "cell_type": "code",
   "execution_count": 42,
   "metadata": {
    "collapsed": false
   },
   "outputs": [
    {
     "data": {
      "text/plain": [
       "False"
      ]
     },
     "execution_count": 42,
     "metadata": {},
     "output_type": "execute_result"
    }
   ],
   "source": [
    "x = 3\n",
    "y = 4\n",
    "x >= y"
   ]
  },
  {
   "cell_type": "markdown",
   "metadata": {
    "slideshow": {
     "slide_type": "slide"
    }
   },
   "source": [
    "What is the value of `val`?"
   ]
  },
  {
   "cell_type": "code",
   "execution_count": 43,
   "metadata": {
    "collapsed": true
   },
   "outputs": [],
   "source": [
    "val = 0\n",
    "if val >= 0:\n",
    "    val += 1\n",
    "elif val < 1:\n",
    "    val += 2\n",
    "elif True:\n",
    "    val += 3\n",
    "else:\n",
    "    val += 5\n",
    "    \n",
    "    val += 7"
   ]
  },
  {
   "cell_type": "code",
   "execution_count": 44,
   "metadata": {
    "collapsed": false,
    "slideshow": {
     "slide_type": "fragment"
    }
   },
   "outputs": [
    {
     "name": "stdout",
     "output_type": "stream",
     "text": [
      "1\n"
     ]
    }
   ],
   "source": [
    "print(val)"
   ]
  },
  {
   "cell_type": "markdown",
   "metadata": {
    "slideshow": {
     "slide_type": "slide"
    }
   },
   "source": [
    "### Logical Operators\n",
    "\n",
    "Logical operators are used to join multiple \"sub-conditions\" together, each evaluating to `True` or `False`, into one large condition that evaluates to one final `True` or `False` for the whole thing.\n",
    "\n",
    "`and`, `or`, and `not`\n",
    "\n",
    " - `and`: All sub-conditions joined with `and` must be `True` for the full condition to be `True`.\n",
    " - `or`: Only one sub-condition joined with `or` needs to be `True` for the full condition to be `True`.\n",
    " - `not`: Flips the condition from `True` to `False` or from `False` to `True`.\n",
    " - Use parentheses to avoid confusion!"
   ]
  },
  {
   "cell_type": "code",
   "execution_count": 45,
   "metadata": {
    "collapsed": false
   },
   "outputs": [
    {
     "name": "stdout",
     "output_type": "stream",
     "text": [
      "b\n"
     ]
    }
   ],
   "source": [
    "if x > 3 and y == 4:\n",
    "    print(\"a\")\n",
    "elif x > 3 or y == 4:\n",
    "    print(\"b\")\n",
    "elif not (x > 3 or y == 4):\n",
    "    print(\"c\")"
   ]
  },
  {
   "cell_type": "markdown",
   "metadata": {
    "slideshow": {
     "slide_type": "slide"
    }
   },
   "source": [
    "What is the value of `val`?"
   ]
  },
  {
   "cell_type": "code",
   "execution_count": 46,
   "metadata": {
    "collapsed": true
   },
   "outputs": [],
   "source": [
    "x = 3\n",
    "y = 4\n",
    "z = 5\n",
    "val = (x != 3) or ((not y < 0) and z < 10) or ((not y == 0) and z < 0)"
   ]
  },
  {
   "cell_type": "code",
   "execution_count": 47,
   "metadata": {
    "collapsed": false,
    "slideshow": {
     "slide_type": "fragment"
    }
   },
   "outputs": [
    {
     "name": "stdout",
     "output_type": "stream",
     "text": [
      "True\n"
     ]
    }
   ],
   "source": [
    "print(val)"
   ]
  },
  {
   "cell_type": "markdown",
   "metadata": {
    "slideshow": {
     "slide_type": "slide"
    }
   },
   "source": [
    "### `pass`\n",
    "\n",
    "The `pass` keyword does nothing. However, it's needed in a language like Python that relies on whitespace."
   ]
  },
  {
   "cell_type": "code",
   "execution_count": 48,
   "metadata": {
    "collapsed": true
   },
   "outputs": [],
   "source": [
    "if True:\n",
    "    pass\n",
    "else:\n",
    "    print(\"I will never print\")"
   ]
  },
  {
   "cell_type": "markdown",
   "metadata": {
    "slideshow": {
     "slide_type": "slide"
    }
   },
   "source": [
    "## Administrivia\n",
    "\n",
    " - Any problems with Assignment 1?\n",
    " \n",
    " - Lecture on Thursday on PySB, a package for systems biology.\n",
    " \n",
    " - Guest lecturers on Feb 7 and Feb 9 (details to come)."
   ]
  },
  {
   "cell_type": "markdown",
   "metadata": {
    "slideshow": {
     "slide_type": "slide"
    }
   },
   "source": [
    "## Additional Resources\n",
    "\n",
    " 1. Matthes, Eric. *Python Crash Course*. 2016. ISBN-13: 978-1593276034\n",
    " 2. Grus, Joel. *Data Science from Scratch*. 2015. ISBN-13: 978-1491901427"
   ]
  }
 ],
 "metadata": {
  "celltoolbar": "Slideshow",
  "kernelspec": {
   "display_name": "Python 3",
   "language": "python",
   "name": "python3"
  },
  "language_info": {
   "codemirror_mode": {
    "name": "ipython",
    "version": 3
   },
   "file_extension": ".py",
   "mimetype": "text/x-python",
   "name": "python",
   "nbconvert_exporter": "python",
   "pygments_lexer": "ipython3",
   "version": "3.5.2"
  }
 },
 "nbformat": 4,
 "nbformat_minor": 0
}
