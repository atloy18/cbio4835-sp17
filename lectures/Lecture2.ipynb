{
 "cells": [
  {
   "cell_type": "markdown",
   "metadata": {
    "slideshow": {
     "slide_type": "slide"
    }
   },
   "source": [
    "# Lecture 2: Command Line Basics\n",
    "CBIO (CSCI) 4835/6835: Introduction to Computational Biology"
   ]
  },
  {
   "cell_type": "markdown",
   "metadata": {
    "slideshow": {
     "slide_type": "slide"
    }
   },
   "source": [
    "## Overview and Objectives\n",
    "\n",
    "\n"
   ]
  },
  {
   "cell_type": "markdown",
   "metadata": {
    "collapsed": true,
    "slideshow": {
     "slide_type": "slide"
    }
   },
   "source": [
    "## Part 1: BASH Basics"
   ]
  },
  {
   "cell_type": "markdown",
   "metadata": {
    "slideshow": {
     "slide_type": "fragment"
    }
   },
   "source": [
    "If you've never used a command-line before... **Don't be intimidated!**\n",
    "\n",
    "<img src=\"https://www.bleepstatic.com/tutorials/cmdprompt/cmdprompt.gif\" />"
   ]
  },
  {
   "cell_type": "markdown",
   "metadata": {
    "slideshow": {
     "slide_type": "slide"
    }
   },
   "source": [
    "### Bash is to command prompts as Windows is to operating systems\n",
    "\n",
    "Other command prompts include\n",
    " - `csh` (some would say the original: the \"C-shell\"\n",
    " - `bash` (\"bourne-again\" shell; tends to be default on most Linux and macOS systems)\n",
    " - `ksh` (Korn shell)\n",
    " - `zsh` (Z shell)"
   ]
  },
  {
   "cell_type": "markdown",
   "metadata": {
    "slideshow": {
     "slide_type": "slide"
    }
   },
   "source": [
    "### Think of the fancy point-and-click user-interfaces as running commands on a prompt behind-the-scenes whenever you click something"
   ]
  },
  {
   "cell_type": "markdown",
   "metadata": {
    "slideshow": {
     "slide_type": "fragment"
    }
   },
   "source": [
    "### I highly recommend either Linux (Ubuntu, Mint, RedHat) or macOS. The Windows MS-DOS prompt is something else entirely."
   ]
  },
  {
   "cell_type": "markdown",
   "metadata": {
    "slideshow": {
     "slide_type": "fragment"
    }
   },
   "source": [
    "If you're on a Windows machine, you can either:\n",
    " - Activate the Ubuntu shell (Windows 10 only) https://msdn.microsoft.com/en-us/commandline/wsl/install_guide\n",
    " - Install Cygwin https://www.cygwin.com/\n",
    " - Install VirtualBox ( https://www.virtualbox.org/wiki/VirtualBox ) and run an Ubuntu virtual machine inside\n",
    " - Go to the computer labs (RedHat or macOS will work)"
   ]
  },
  {
   "cell_type": "markdown",
   "metadata": {
    "slideshow": {
     "slide_type": "slide"
    }
   },
   "source": [
    "I have a macOS laptop, an Ubuntu workstation, a bunch of RedHat servers, and a Windows 10 home desktop.\n",
    "\n",
    "I'm most at home with either macOS or Ubuntu.\n",
    "\n",
    "**It's like learning another language**: you'll only get better at it if you **immerse yourself in it**, even when you don't want to."
   ]
  },
  {
   "cell_type": "markdown",
   "metadata": {
    "slideshow": {
     "slide_type": "slide"
    }
   },
   "source": [
    "### Diving in!\n",
    "\n",
    "You've fired up the command prompt (or `Terminal` in macOS). How do you see what's in the current folder?"
   ]
  },
  {
   "cell_type": "markdown",
   "metadata": {
    "slideshow": {
     "slide_type": "fragment"
    }
   },
   "source": [
    "<pre>\n",
    "Last login: Mon Jan  9 18:36:07 on ttys006\n",
    "example1:~ squinn$ ls\n",
    "Applications   Dropbox        Music          SpiderOak Hive\n",
    "Desktop        Google Drive   Pictures       metastore_db\n",
    "Documents      Library        Programming    nltk_data\n",
    "Downloads      Movies         Public         rodeo.log\n",
    "example1:~ squinn$ \n",
    "</pre>"
   ]
  },
  {
   "cell_type": "markdown",
   "metadata": {
    "slideshow": {
     "slide_type": "slide"
    }
   },
   "source": [
    "### `ls`\n",
    "\n",
    "Allows you to view the contents of the current directory--folders and files.\n",
    "\n",
    "But how do we tell the difference between the two? **Use an optional `-l` flag.**"
   ]
  },
  {
   "cell_type": "markdown",
   "metadata": {
    "slideshow": {
     "slide_type": "slide"
    }
   },
   "source": [
    "### (aside: \"flags\" are options to commands that slightly tweak their behavior to account for different user intentions--like \"quit\" versus \"force quit\")"
   ]
  },
  {
   "cell_type": "markdown",
   "metadata": {
    "slideshow": {
     "slide_type": "slide"
    }
   },
   "source": [
    "<pre>\n",
    "example1:~ squinn$ ls -l\n",
    "total 264\n",
    "drwx------   7 squinn  staff     238 Oct 23  2015 Applications\n",
    "drwx------+ 59 squinn  staff    2006 Jan  9 17:49 Desktop\n",
    "drwx------+ 20 squinn  staff     680 Dec 23 09:35 Documents\n",
    "drwx------+  5 squinn  staff     170 Jan  9 18:27 Downloads\n",
    "drwx------@ 17 squinn  staff     578 Jan  8 18:03 Dropbox\n",
    "drwx------@ 49 squinn  staff    1666 Jan  4 15:47 Google Drive\n",
    "drwx------+ 74 squinn  staff    2516 Nov 17 15:06 Library\n",
    "drwx------+  6 squinn  staff     204 May 20  2015 Movies\n",
    "drwx------+  5 squinn  staff     170 Oct 22  2014 Music\n",
    "drwx------+ 18 squinn  staff     612 Jul 29 11:31 Pictures\n",
    "drwxr-xr-x  37 squinn  staff    1258 Jan  4 15:57 Programming\n",
    "drwxr-xr-x+  5 squinn  staff     170 Oct 21  2014 Public\n",
    "drwx------@  8 squinn  staff     272 Jun 30  2015 SpiderOak Hive\n",
    "drwxr-xr-x   9 squinn  staff     306 Sep 17  2015 metastore_db\n",
    "drwxr-xr-x   4 squinn  staff     136 Apr 27  2016 nltk_data\n",
    "-rw-r--r--   1 squinn  staff  131269 Jan  9 18:32 rodeo.log\n",
    "example1:~ squinn$\n",
    "</pre>"
   ]
  },
  {
   "cell_type": "markdown",
   "metadata": {
    "slideshow": {
     "slide_type": "fragment"
    }
   },
   "source": [
    "Anything that starts with a `d` on the left is a folder (or **directory**), otherwise it's a file."
   ]
  },
  {
   "cell_type": "markdown",
   "metadata": {
    "slideshow": {
     "slide_type": "slide"
    }
   },
   "source": [
    "Ok, that's cool. I can tell what is what where I currently am. ...but wait, how do I even know where I am?"
   ]
  },
  {
   "cell_type": "markdown",
   "metadata": {
    "slideshow": {
     "slide_type": "fragment"
    }
   },
   "source": [
    "<pre>\n",
    "example1:~ squinn$ pwd\n",
    "/home/squinn\n",
    "example1:~ squinn$\n",
    "</pre>"
   ]
  },
  {
   "cell_type": "markdown",
   "metadata": {
    "slideshow": {
     "slide_type": "slide"
    }
   },
   "source": [
    "### `pwd`\n",
    "\n",
    "Pretty straightforward--stands for **P**rint **W**working **D**irectory. Gives you the full path to where you are currently working. Not really any other needed optional flags."
   ]
  },
  {
   "cell_type": "markdown",
   "metadata": {
    "slideshow": {
     "slide_type": "slide"
    }
   },
   "source": [
    "Great! Now I know where I am, and what is what where I am. How do I move somewhere else?"
   ]
  },
  {
   "cell_type": "markdown",
   "metadata": {
    "slideshow": {
     "slide_type": "fragment"
    }
   },
   "source": [
    "<pre>\n",
    "example1:~ squinn$ cd Music/\n",
    "example1:Music squinn$ ls\n",
    "iTunes\n",
    "example1:Music squinn$ \n",
    "</pre>\n",
    "\n",
    "You'll notice the output of the `ls` command has now changed, which hopefully isn't surprising.\n",
    "\n",
    "Since we've **C**hanged **D**irectories with the `cd` command--you essentially double-clicked the \"Music\" folder--now we're in a different folder with different contents; in this case, a lone \"iTunes\" folder."
   ]
  },
  {
   "cell_type": "markdown",
   "metadata": {
    "slideshow": {
     "slide_type": "slide"
    }
   },
   "source": [
    "Folders within folders represent a recursive hierarchy. We won't delve too much into this concept, except to say that, unless you're in the **root directory** (`/` on Linux, `C:\\` on Windows), there is always a **parent directory**--the enclosing folder around the folder you are currently in."
   ]
  },
  {
   "cell_type": "markdown",
   "metadata": {
    "slideshow": {
     "slide_type": "fragment"
    }
   },
   "source": [
    "Therefore, while you can always change to a very specific directory by supplying the full path--"
   ]
  },
  {
   "cell_type": "markdown",
   "metadata": {
    "slideshow": {
     "slide_type": "fragment"
    }
   },
   "source": [
    "<pre>\n",
    "example1:~ squinn$ cd /home/squinn/Dropbox\n",
    "example1:Dropbox squinn$ ls\n",
    "Cilia_Papers     Imaging_Papers   OdorAnalysis     Public\n",
    "Computer Case    LandUseChange    OrNet            cilia movies\n",
    "Icon?            NSF_BigData_2015 OrNet Videos\n",
    "example1:Dropbox squinn$\n",
    "</pre>"
   ]
  },
  {
   "cell_type": "markdown",
   "metadata": {
    "slideshow": {
     "slide_type": "fragment"
    }
   },
   "source": [
    "--I can also navigate to the parent folder of my current location, irrespective of my *specific* location, using the special `..` notation."
   ]
  },
  {
   "cell_type": "markdown",
   "metadata": {
    "slideshow": {
     "slide_type": "slide"
    }
   },
   "source": [
    "### `cd ..`\n",
    "\n",
    "Takes you up one level to the parent directory of where you currently are.\n",
    "\n",
    "<pre>\n",
    "example1:Dropbox squinn$ pwd\n",
    "/home/squinn/Dropbox\n",
    "example1:Dropbox squinn$ cd ..\n",
    "example1:~ squinn$ pwd\n",
    "/home/squinn\n",
    "example1:~ squinn$\n",
    "</pre>"
   ]
  },
  {
   "cell_type": "markdown",
   "metadata": {
    "slideshow": {
     "slide_type": "fragment"
    }
   },
   "source": [
    "Let's see some other examples!"
   ]
  },
  {
   "cell_type": "markdown",
   "metadata": {
    "slideshow": {
     "slide_type": "slide"
    }
   },
   "source": [
    "<pre>\n",
    "example1: squinn$ ls\n",
    "Lecture1.ipynb\n",
    "example1: squinn$ ls -l\n",
    "total 40\n",
    "-rw-r--r--  1 squinn  staff  18620 Jan  5 19:54 Lecture1.ipynb\n",
    "example1: squinn$ pwd\n",
    "/home/squinn/teaching/4835/lectures\n",
    "example1: squinn$ cd ..\n",
    "example1: squinn$ pwd\n",
    "</pre>\n",
    "\n",
    "What prints out?\n",
    " - `~/`\n",
    " - `/home/squinn`\n",
    " - `/home/squinn/teaching`\n",
    " - `/home/squinn/teaching/4835`\n",
    " - An Error"
   ]
  },
  {
   "cell_type": "markdown",
   "metadata": {
    "slideshow": {
     "slide_type": "slide"
    }
   },
   "source": [
    "<pre>\n",
    "$ ls -l\n",
    "total 8\n",
    "-rw-rw-r-- 1 squinn staff   19 Sep  3 09:08 hello.txt\n",
    "drwxrwxr-x 2 squinn staff 4096 Sep  3 09:08 lecture\n",
    "$ ls *.txt\n",
    "</pre>\n",
    "\n",
    "What prints out?\n",
    " - `hello.txt`\n",
    " - `*.txt`\n",
    " - `hello.txt lecture`\n",
    " - An Error"
   ]
  },
  {
   "cell_type": "markdown",
   "metadata": {
    "slideshow": {
     "slide_type": "slide"
    }
   },
   "source": [
    "### Spacing Out\n",
    "\n",
    "<tt>du</tt> - disk usage of files/directores\n",
    "<pre>\n",
    "[squinn tmp]$ du -s\n",
    "146564\t.\n",
    "[squinn tmp]$ du -sh\n",
    "144M\t.\n",
    "[squinn tmp]$ du -sh intro\n",
    "4.0K\tintro\n",
    "</pre>\n",
    "\n",
    "<tt>df</tt> - usage of full disk\n",
    "\n",
    "<pre>\n",
    "[squinn tmp]$ df -h .\n",
    "Filesystem      Size  Used Avail Use% Mounted on\n",
    "pulsar:/home     37T   28T  9.3T  75% /net/pulsar/home\n",
    "</pre>"
   ]
  },
  {
   "cell_type": "markdown",
   "metadata": {
    "slideshow": {
     "slide_type": "slide"
    }
   },
   "source": [
    "### Dude, where's my stuff?\n",
    "\n",
    "<tt>locate</tt> find a file system wide\n",
    "<tt>find</tt> search directory tree\n",
    "<tt>which</tt> print location of a command\n",
    "<tt>man</tt> print manual page of a command\n"
   ]
  },
  {
   "cell_type": "markdown",
   "metadata": {
    "slideshow": {
     "slide_type": "slide"
    }
   },
   "source": [
    "### Save the Environment\n",
    "\n",
    "<tt>NAME=value</tt>  set NAME equal to value **No spaces around equals**\n",
    "<tt>export NAME=value</tt> set NAME equal to value and make it stick\n",
    "<tt>\\$</tt> *dereference* variable\n",
    "<pre>\n",
    "$ X=3\n",
    "$ echo $X\n",
    "3\n",
    "$ X=hello\n",
    "$ echo $X\n",
    "hello\n",
    "$ echo X\n",
    "X\n",
    "</pre>"
   ]
  },
  {
   "cell_type": "markdown",
   "metadata": {
    "slideshow": {
     "slide_type": "slide"
    }
   },
   "source": [
    "### Getting at your variables\n",
    "\n",
    "Which does **not** print the value of X?\n",
    " - `echo $X`\n",
    " - `echo ${X}`\n",
    " - `echo '$X'`\n",
    " - `echo \"$X\"`"
   ]
  },
  {
   "cell_type": "markdown",
   "metadata": {
    "slideshow": {
     "slide_type": "slide"
    }
   },
   "source": [
    "### Capturing Output\n",
    "\n",
    "<tt>`cmd`</tt> evaluates to output of cmd\n",
    "<pre>\n",
    "$ FILES=`ls`\n",
    "$ echo $FILES \n",
    "hello.txt lecture\n",
    "</pre>"
   ]
  },
  {
   "cell_type": "markdown",
   "metadata": {
    "slideshow": {
     "slide_type": "slide"
    }
   },
   "source": [
    "### Your Environment\n",
    "\n",
    "<tt>env</tt> list all set environment variables\n",
    "<tt>PATH</tt> where shell searches for commands\n",
    "<tt>LD_LIBRARY_PATH</tt> library search path\n",
    "<tt>PYTHONPATH</tt> where python searches for modules\n",
    "\n",
    "<tt>.bashrc</tt> initialization file for bash - set PATH etc here\n"
   ]
  },
  {
   "cell_type": "markdown",
   "metadata": {
    "slideshow": {
     "slide_type": "slide"
    }
   },
   "source": [
    "### History\n",
    "\n",
    "<tt>history</tt> show commands previously issued\n",
    "<tt>up arrow</tt> cycle through previous commands\n",
    "<tt>Ctrl-R</tt> search through history for command **AWESOME**\n",
    "<tt>.bash_history</tt> file that stores the history\n",
    "<tt>HISTCONTROL</tt> environment variable that sets history options: ignoredups\n",
    "<tt>HISTSIZE</tt> size of history buffer"
   ]
  },
  {
   "cell_type": "markdown",
   "metadata": {
    "slideshow": {
     "slide_type": "slide"
    }
   },
   "source": [
    "### Shortcuts\n",
    "\n",
    "<tt>Tab</tt> autocomplete\n",
    "<tt>Ctrl-D</tt>  EOF/logout/exit\n",
    "<tt>Ctrl-A</tt>  go to beginning of line\n",
    "<tt>Ctrl-E</tt>  go to end of line\n",
    "<tt>alias new=cmd</tt>  \n",
    "\n",
    "<pre>\n",
    "make a nickname for a command\n",
    "$ alias l='ls -l'\n",
    "$ alias\n",
    "$ l\n",
    "</pre>"
   ]
  },
  {
   "cell_type": "markdown",
   "metadata": {
    "slideshow": {
     "slide_type": "slide"
    }
   },
   "source": [
    "### Commands\n",
    "\n",
    "The first word you type is the program you want to run.  <tt>bash</tt> will search <tt>PATH</tt> for an appropriately named executable and run it with the specified arguments.\n",
    "\n",
    "* <tt>ipython<tt> - start interactive python shell (more later)\n",
    "* <tt>ssh</tt> *hostname*  - connect to *hostname*\n",
    "* <tt>passwd</tt> - change your password\n",
    "* <tt>nano</tt> - a user-friendly text editor\n",
    "\n",
    "## <tt>ssh</tt> into <tt>jupyterhub.cs.uga.edu</tt> and change your password"
   ]
  },
  {
   "cell_type": "markdown",
   "metadata": {
    "slideshow": {
     "slide_type": "slide"
    }
   },
   "source": [
    "## Part 2: Text Manipulation"
   ]
  },
  {
   "cell_type": "markdown",
   "metadata": {
    "slideshow": {
     "slide_type": "fragment"
    }
   },
   "source": [
    "### Review\n",
    "\n",
    "<tt>ls</tt> - list files\n",
    "<tt>cd</tt> - change directory\n",
    "<tt>pwd</tt> - print working (current) directory\n",
    "<tt>..</tt> - special file that refers to parent directory\n",
    "<tt>.</tt> - the current directory\n",
    "<tt>cat <em>file</em></tt> - print out contents of file\n",
    "<tt>more <em>file</em></tt> - print contents of file with pagination"
   ]
  },
  {
   "cell_type": "markdown",
   "metadata": {
    "slideshow": {
     "slide_type": "slide"
    }
   },
   "source": [
    "### I/O Redirection\n",
    "\n",
    "<tt>&gt;</tt> send *standard output* to file\n",
    "\n",
    "<pre>\n",
    "$ echo Hello > h.txt\n",
    "</pre>\n",
    "\n",
    "<tt>&gt;&gt;</tt> append to file\n",
    "\n",
    "<pre>\n",
    "$ echo World >> h.txt\n",
    "</pre>\n",
    "\n",
    "<tt>&lt;</tt>  send file to *standard input* of command\n",
    "\n",
    "<tt>2&gt;</tt>  send *standard error* to file\n",
    "\n",
    "<tt>&gt;&</tt>  send output and error to file"
   ]
  },
  {
   "cell_type": "markdown",
   "metadata": {
    "slideshow": {
     "slide_type": "slide"
    }
   },
   "source": [
    "<pre>\n",
    "$ echo Hello > h.txt\n",
    "$ echo World >> h.txt\n",
    "$ cat h.txt\n",
    "</pre>\n",
    "\n",
    "What prints out?\n",
    " - Hello\n",
    " - World\n",
    " - HelloWorld\n",
    " - <br />Hello<br />World\n",
    " - An Error"
   ]
  },
  {
   "cell_type": "markdown",
   "metadata": {
    "slideshow": {
     "slide_type": "slide"
    }
   },
   "source": [
    "<pre>\n",
    "$ echo Hello > h.txt\n",
    "$ echo World > h.txt\n",
    "$ cat h.txt\n",
    "</pre>\n",
    "\n",
    "What prints out?\n",
    " - Hello\n",
    " - World\n",
    " - HelloWorld\n",
    " - <br />Hello<br />World\n",
    " - An Error"
   ]
  },
  {
   "cell_type": "markdown",
   "metadata": {
    "slideshow": {
     "slide_type": "slide"
    }
   },
   "source": [
    "### Pipes\n",
    "\n",
    "A pipe (<tt>|</tt>) redirects the *standard output* of one program to the *standard input* of another.  It's like you typed the output of the first program into the second.  This allows us to chain several simple programs together to do something more complicated.\n",
    "<pre>\n",
    "$ echo Hello World | wc\n",
    "</pre>"
   ]
  },
  {
   "cell_type": "markdown",
   "metadata": {
    "slideshow": {
     "slide_type": "slide"
    }
   },
   "source": [
    "### Simple Text Manipulation\n",
    "\n",
    "<tt>cat</tt> dump file to stdout\n",
    "<tt>more</tt> paginated output\n",
    "<tt>head</tt> show first 10 lines\n",
    "<tt>tail</tt> show last 10 lines\n",
    "<tt>wc</tt> count lines/words/characters\n",
    "<tt>sort</tt> sort file by line and print out (<tt>-n</tt> for numerical sort)\n",
    "<tt>uniq</tt> remove **adjacent** duplicates (<tt>-c</tt> to count occurances)\n",
    "<tt>cut</tt> extract fixed width columns from file"
   ]
  },
  {
   "cell_type": "markdown",
   "metadata": {
    "slideshow": {
     "slide_type": "slide"
    }
   },
   "source": [
    "<pre>\n",
    "$ cat text\n",
    "a\n",
    "b\n",
    "a\n",
    "b\n",
    "b\n",
    "$ cat text | uniq | wc\n",
    "</pre>\n",
    "\n",
    "What is the first number to print out?\n",
    " - 1\n",
    " - 2\n",
    " - 3\n",
    " - 4\n",
    " - 5\n",
    " - None of the above"
   ]
  },
  {
   "cell_type": "markdown",
   "metadata": {
    "slideshow": {
     "slide_type": "slide"
    }
   },
   "source": [
    "<pre>\n",
    "$ cat text\n",
    "a\n",
    "b\n",
    "a\n",
    "b\n",
    "b\n",
    "$ cat text | sort | uniq | wc\n",
    "</pre>\n",
    "\n",
    "What is the first number to print out?\n",
    " - 1\n",
    " - 2\n",
    " - 3\n",
    " - 4\n",
    " - 5\n",
    " - None of the above"
   ]
  },
  {
   "cell_type": "markdown",
   "metadata": {
    "slideshow": {
     "slide_type": "slide"
    }
   },
   "source": [
    "### Advanced Text Manipulation\n",
    "\n",
    "<tt>grep</tt> search contents of file for expression\n",
    "<tt>sed</tt> stream editor - perform substitutions\n",
    "<tt>awk</tt> pattern scanning and processing, great for dealing with data in columns"
   ]
  },
  {
   "cell_type": "markdown",
   "metadata": {
    "slideshow": {
     "slide_type": "slide"
    }
   },
   "source": [
    "### grep\n",
    "\n",
    "Search file contents for a pattern.\n",
    "<tt>grep <em>pattern</em> <em>file(s)</em></tt>\n",
    " * <tt>‐r</tt> recursive search\n",
    " * <tt>‐I</tt> skip over binary files\n",
    " * <tt>‐s</tt> suppress error messages\n",
    " * <tt>‐n</tt> show line numbers\n",
    " * <tt>‐A</tt> *N* show *N* lines after match\n",
    " * <tt>‐B</tt> *N* show *N* lines before match"
   ]
  },
  {
   "cell_type": "markdown",
   "metadata": {
    "slideshow": {
     "slide_type": "slide"
    }
   },
   "source": [
    "<pre>\n",
    "$ grep a text | wc\n",
    "</pre>\n",
    "\n",
    "What is the first number to print out?\n",
    " - 1\n",
    " - 2\n",
    " - 3\n",
    " - 4\n",
    " - 5\n",
    " - None of the above"
   ]
  },
  {
   "cell_type": "markdown",
   "metadata": {
    "slideshow": {
     "slide_type": "slide"
    }
   },
   "source": [
    "### sed\n",
    "Search and replace\n",
    "\n",
    "<pre>\n",
    "sed 's/<em>pattern</em>/<em>replacement</em>/' <em>file</em>\n",
    "</pre>\n",
    "\n",
    " * <tt>‐i</tt> replace in-place (overwrites input file)"
   ]
  },
  {
   "cell_type": "markdown",
   "metadata": {
    "slideshow": {
     "slide_type": "slide"
    }
   },
   "source": [
    "<pre>\n",
    "$ sed 's/a/b/' text | uniq | wc\n",
    "</pre>\n",
    "\n",
    "What is the first number to print out?\n",
    " - 1\n",
    " - 2\n",
    " - 3\n",
    " - 4\n",
    " - 5\n",
    " - None of the above"
   ]
  },
  {
   "cell_type": "markdown",
   "metadata": {
    "slideshow": {
     "slide_type": "slide"
    }
   },
   "source": [
    "### awk\n",
    "Pattern scanning in processing language. We'll mostly use it to extract columns/fields. It processes a file line-by-line and if a condition holds runs a simple program on the line.\n",
    "\n",
    "<tt> awk '<em>optional condition</em> {<em>awk program</em>}' <em>file</em></tt>\n",
    "* <tt>-F<em>x</em></tt> make *x* the field deliminator (default whitespace)\n",
    "* <tt>NF</tt> number of fields on current line\n",
    "* <tt>NR</tt> current record number\n",
    "* <tt>\\$0</tt> full line\n",
    "* <tt>\\$<em>N</em></tt> Nth field"
   ]
  },
  {
   "cell_type": "markdown",
   "metadata": {
    "slideshow": {
     "slide_type": "slide"
    }
   },
   "source": [
    "### awk\n",
    "\n",
    "<pre>\n",
    "$ cat names\n",
    "id last,first \n",
    "1 Smith,Alice\n",
    "2 Jones,Bob\n",
    "3 Smith,Charlie\n",
    "</pre>\n",
    "Try these:\n",
    "\n",
    "<pre>\n",
    "$ awk '{print $1}' names\n",
    "$ awk -F, '{print $2}' names\n",
    "$ awk 'NR > 1 {print $2}' names \n",
    "$ awk '$1 > 1 {print $0}' names\n",
    "$ awk 'NR > 1 {print $2}' names | awk -F, '{print $1}' | sort | uniq -c\n",
    "\n",
    "</pre>"
   ]
  },
  {
   "cell_type": "markdown",
   "metadata": {
    "slideshow": {
     "slide_type": "slide"
    }
   },
   "source": [
    "## Exercises\n",
    "\n",
    "<pre>\n",
    "mkdir intro\n",
    "cd intro\n",
    "wget https://eds-uga.github.io/cbio4835-sp17/files/Spellman.csv\n",
    "wget https://eds-uga.github.io/cbio4835-sp17/files/1shs.pdb\n",
    "</pre>"
   ]
  },
  {
   "cell_type": "markdown",
   "metadata": {
    "slideshow": {
     "slide_type": "fragment"
    }
   },
   "source": [
    "- How many data points are in Spellman.csv?\n",
    "-  The first three letters of the systematic open reading frames are: 'Y' for yeast, the chromosome number, then the chromosome arm. In the dataset, how many ORFs from chromosome A are there?\n",
    "- How many are there from each chromosome? \n",
    "  - each chromosome arm?\n",
    "- How many data points start with a positive expression value?\n",
    "- What are the 10 data points with the highest initial expression values?\n",
    "  - Lowest?\n",
    "- How many lines are there where expression values are continuously increasing for the first 3 time steps?\n",
    "- Sorted by biggest increase?"
   ]
  },
  {
   "cell_type": "markdown",
   "metadata": {
    "slideshow": {
     "slide_type": "subslide"
    }
   },
   "source": [
    "<pre>\n",
    "wc Spellman.csv   (gives number of lines, because of header this is off by one)\n",
    "grep YA Spellman.csv |wc\n",
    "grep ^YA Spellman.csv |wc  (this is a bit better, ^ matches begining of line)\n",
    "grep ^YA -c Spellman.csv  (grep can provide the count itself)\n",
    "awk -F, 'NR > 1 {print $1}' Spellman.csv | cut -b 1-2 | sort | uniq -c\n",
    "awk -F, 'NR > 1 {print $1}' Spellman.csv | cut -b 1-3 | sort | uniq -c\n",
    "awk -F, 'NR > 1 && $2 > 0 {print $0}' Spellman.csv | wc\n",
    "awk -F, 'NR > 1  {print $1,$2}' Spellman.csv  | sort -k2,2 -n | tail\n",
    "awk -F, 'NR > 1  {print $1,$2}' Spellman.csv  | sort -k2,2 -n -r | tail\n",
    "awk -F, 'NR > 1 && $3 > $2 && $4 > $3 {print $0}' Spellman.csv  |wc\n",
    "awk -F, 'NR > 1 && $3 > $2 && $4 > $3  {print $4-$2,$0}' Spellman.csv   | sort -n -k1,1\n",
    "</pre>"
   ]
  },
  {
   "cell_type": "markdown",
   "metadata": {
    "slideshow": {
     "slide_type": "slide"
    }
   },
   "source": [
    "## More Exercises\n",
    "\n",
    "- Create a pdb file from 1shs that consists of only ATOM records. \n",
    "- Create a pdb with only ATOM records from chain A.\n",
    "- How many carbon atoms are in this file?"
   ]
  },
  {
   "cell_type": "markdown",
   "metadata": {
    "slideshow": {
     "slide_type": "subslide"
    }
   },
   "source": [
    "<pre>\n",
    "grep ^ATOM 1shs.pdb > newpdb.pdb (^matches beginning of line)\n",
    "grep ^ATOM 1shs.pdb | awk '$5 == \"A\" {print $0}'\n",
    "#this is UNSAFE with pdb files since there is no guarantee that fields\n",
    "#will be whitespace seperated, safer is:\n",
    "grep ^ATOM 1shs.pdb | awk ' substr($0,22,1) == \"A\" {print $0}' > newpdb.pdb\n",
    " \n",
    "grep ^ATOM 1shs.pdb | awk ' substr($0,22,1) == \"A\" {print $0}' | cut -b 78- | sort | uniq -c\n",
    "\n",
    "</pre>"
   ]
  },
  {
   "cell_type": "markdown",
   "metadata": {
    "slideshow": {
     "slide_type": "slide"
    }
   },
   "source": [
    "## Administrivia\n",
    "\n",
    " - Did everyone finish the pre-test? It was due today before lecture. https://docs.google.com/forms/d/1ka9yH5G3bOCfdJUTaeZXV2BdtvqqsiPaxnvKI2f4YK4/\n",
    " \n",
    " - Office hours: **Tuesdays (today!) at 11:00 - 12:30**. Boyd GSRC 638A."
   ]
  },
  {
   "cell_type": "markdown",
   "metadata": {
    "slideshow": {
     "slide_type": "slide"
    }
   },
   "source": [
    "## Resources\n",
    "\n",
    " - A BASH cheatsheet: http://eds-uga.github.io/cbio4835-sp17notes/bash_cheatsheet.pdf"
   ]
  }
 ],
 "metadata": {
  "celltoolbar": "Slideshow",
  "kernelspec": {
   "display_name": "Python 3",
   "language": "python",
   "name": "python3"
  },
  "language_info": {
   "codemirror_mode": {
    "name": "ipython",
    "version": 3
   },
   "file_extension": ".py",
   "mimetype": "text/x-python",
   "name": "python",
   "nbconvert_exporter": "python",
   "pygments_lexer": "ipython3",
   "version": "3.5.2"
  }
 },
 "nbformat": 4,
 "nbformat_minor": 2
}
