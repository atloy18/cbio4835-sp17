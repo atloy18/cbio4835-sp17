{
 "cells": [
  {
   "cell_type": "markdown",
   "metadata": {
    "deletable": true,
    "editable": true,
    "slideshow": {
     "slide_type": "slide"
    }
   },
   "source": [
    "# Lecture 19: Computational Modeling\n",
    "\n",
    "CBIO (CSCI) 4835/6835: Introduction to Computational Biology"
   ]
  },
  {
   "cell_type": "markdown",
   "metadata": {
    "deletable": true,
    "editable": true,
    "slideshow": {
     "slide_type": "slide"
    }
   },
   "source": [
    "## Overview and Objectives\n",
    "\n",
    "So far, we've discussed Hidden Markov Models as way to encapsulate and represent something with a \"hidden state\" component. There are countless other computational and statistical models, a few of which we'll touch on here. By the end of this lecture, you should be able to:\n",
    "\n",
    " - Understand compartment models and how to design them\n",
    " - Relate ordinary differential equations (ODEs) to compartment models\n",
    " - Implement basic compartment models for population growth, disease spread, and competition"
   ]
  },
  {
   "cell_type": "markdown",
   "metadata": {
    "slideshow": {
     "slide_type": "slide"
    }
   },
   "source": [
    "## Part 1: Compartment Models"
   ]
  },
  {
   "cell_type": "markdown",
   "metadata": {},
   "source": [
    "A *compartment model* is one of the simplest mechanistic representations of real-world phenomena."
   ]
  },
  {
   "cell_type": "markdown",
   "metadata": {
    "slideshow": {
     "slide_type": "fragment"
    }
   },
   "source": [
    "All compartment models look something like this:\n",
    "\n",
    "<img src=\"https://upload.wikimedia.org/wikipedia/commons/0/0e/Singlecell.PNG\" />"
   ]
  },
  {
   "cell_type": "markdown",
   "metadata": {},
   "source": [
    " - The node(s) represent specific compartments in the model\n",
    " - The edge(s) represent flow of material from one compartment to another, as well as dependencies between compartments\n",
    " - Because of the fact that things are constantly moving around in compartment models, they are sometimes also referred to as *dynamic models*"
   ]
  },
  {
   "cell_type": "markdown",
   "metadata": {
    "slideshow": {
     "slide_type": "slide"
    }
   },
   "source": [
    "There are lots of variations on this theme, including:"
   ]
  },
  {
   "cell_type": "markdown",
   "metadata": {},
   "source": [
    " - **Closed models**: Total amount of material within the model remains constant, simply shifting from one compartment to another"
   ]
  },
  {
   "cell_type": "markdown",
   "metadata": {},
   "source": [
    " - **Open models**: Total material can flow in and out of the model's compartments. This is referred to the model having a *source* (an external contributor of additional material) or a *sink* (a compartment where material effectively disappears from the model when it enters)"
   ]
  },
  {
   "cell_type": "markdown",
   "metadata": {},
   "source": [
    " - **Cyclic models**: Material can flow back and forth between mutually connected compartments"
   ]
  },
  {
   "cell_type": "markdown",
   "metadata": {},
   "source": [
    "Or combinations of the above!"
   ]
  },
  {
   "cell_type": "markdown",
   "metadata": {
    "slideshow": {
     "slide_type": "slide"
    }
   },
   "source": [
    "Compartment models can be *discrete* or *continuous*."
   ]
  },
  {
   "cell_type": "markdown",
   "metadata": {
    "slideshow": {
     "slide_type": "fragment"
    }
   },
   "source": [
    " - **Discrete models** consider the passage of time in discrete steps, e.g. integers."
   ]
  },
  {
   "cell_type": "markdown",
   "metadata": {},
   "source": [
    "<img src=\"https://upload.wikimedia.org/wikipedia/commons/0/0e/Singlecell.PNG\" />\n",
    "\n",
    "In this example, the input of the compartment $u(t)$ is dependent on time, where time is a discrete quantity."
   ]
  },
  {
   "cell_type": "markdown",
   "metadata": {
    "slideshow": {
     "slide_type": "fragment"
    }
   },
   "source": [
    " - **Continuous models**, on the other hand, shrink the change in time between events ($\\delta t$) to 0."
   ]
  },
  {
   "cell_type": "markdown",
   "metadata": {},
   "source": [
    "<img src=\"Lecture19/continuous.png\" />"
   ]
  },
  {
   "cell_type": "markdown",
   "metadata": {},
   "source": [
    "We'll see some examples where this formulation may make more sense. Unfortunately, this is often much more difficult to derive for certain systems."
   ]
  },
  {
   "cell_type": "markdown",
   "metadata": {
    "slideshow": {
     "slide_type": "slide"
    }
   },
   "source": [
    "Compartment models can also be *deterministic* or *stochastic*."
   ]
  },
  {
   "cell_type": "markdown",
   "metadata": {
    "slideshow": {
     "slide_type": "fragment"
    }
   },
   "source": [
    " - **Deterministic models** give you the exact same outputs for any given input. This is what we'll see with models that use differential equations: for given initial values to the system, we always get the same final values."
   ]
  },
  {
   "cell_type": "markdown",
   "metadata": {
    "slideshow": {
     "slide_type": "fragment"
    }
   },
   "source": [
    " - **Stochastic models** introduce randomness into systems, simulating probabilities instead of explicit differential equations. These provide much more realistic looks into real-world systems, but are often much more difficult to analyze (e.g. for steady states), since a given input will not always (or ever!) give the same output."
   ]
  },
  {
   "cell_type": "markdown",
   "metadata": {
    "slideshow": {
     "slide_type": "fragment"
    }
   },
   "source": [
    "An offshoot of stochastic models is the **agent-based model**, in which individual \"agents\" are allowed to act independently according to certain probabilities. This is a very powerful, but very compute-intensive, model."
   ]
  },
  {
   "cell_type": "markdown",
   "metadata": {
    "slideshow": {
     "slide_type": "slide"
    }
   },
   "source": [
    "## Part 2: Common Dynamic Models"
   ]
  },
  {
   "cell_type": "markdown",
   "metadata": {},
   "source": [
    "Enough vocabulary; let's look at a couple common dynamic models."
   ]
  },
  {
   "cell_type": "markdown",
   "metadata": {
    "slideshow": {
     "slide_type": "slide"
    }
   },
   "source": [
    "### Population Growth"
   ]
  },
  {
   "cell_type": "markdown",
   "metadata": {},
   "source": [
    "We'd like to model the growth of some population (humans, animals, bacteria, etc). There are two generally-accepted ways of doing this:"
   ]
  },
  {
   "cell_type": "markdown",
   "metadata": {
    "slideshow": {
     "slide_type": "fragment"
    }
   },
   "source": [
    " - **Exponential growth** assumes that the population grows, well, exponentially. There are implicit assumptions here as well, most importantly that resources also grow with population to sustain its growth."
   ]
  },
  {
   "cell_type": "markdown",
   "metadata": {
    "slideshow": {
     "slide_type": "fragment"
    }
   },
   "source": [
    " - **Logistic growth** assumes a little more explicitly that the amount of some critical resource (e.g. food) is fixed, effectively providing an upper bound on the ultimate size of the population."
   ]
  },
  {
   "cell_type": "markdown",
   "metadata": {
    "slideshow": {
     "slide_type": "fragment"
    }
   },
   "source": [
    "Let's take a look!"
   ]
  },
  {
   "cell_type": "markdown",
   "metadata": {
    "slideshow": {
     "slide_type": "slide"
    }
   },
   "source": [
    "**Exponential growth** sounds a little misleading, since the equation doesn't, on initial inspection, *look* exponential."
   ]
  },
  {
   "cell_type": "markdown",
   "metadata": {},
   "source": [
    "Let's say your population can grow through birth, and shrink through death. At any given time $t$, the population is offset by the number added (birth) and removed (death)."
   ]
  },
  {
   "cell_type": "markdown",
   "metadata": {},
   "source": [
    "With this information, can we build an equation for population as a function of time?"
   ]
  },
  {
   "cell_type": "markdown",
   "metadata": {
    "slideshow": {
     "slide_type": "fragment"
    }
   },
   "source": [
    "$n(t + 1) = n(t) + b - d$"
   ]
  },
  {
   "cell_type": "markdown",
   "metadata": {
    "slideshow": {
     "slide_type": "slide"
    }
   },
   "source": [
    "Or perhaps, put another way, the *change* in population at any given time?"
   ]
  },
  {
   "cell_type": "markdown",
   "metadata": {
    "slideshow": {
     "slide_type": "fragment"
    }
   },
   "source": [
    "$\\frac{dn}{dt} = bn(t) - dn(t)$"
   ]
  },
  {
   "cell_type": "markdown",
   "metadata": {
    "slideshow": {
     "slide_type": "-"
    }
   },
   "source": [
    " - $b$ is the birth rate\n",
    " - $d$ is the death rate\n",
    " - $n(t)$ is the population at time $t$"
   ]
  },
  {
   "cell_type": "markdown",
   "metadata": {},
   "source": [
    "You may notice both terms in the above equation have a common element that can be factored out."
   ]
  },
  {
   "cell_type": "markdown",
   "metadata": {
    "slideshow": {
     "slide_type": "fragment"
    }
   },
   "source": [
    "$\\frac{dn}{dt} = n(t) (b - d)$"
   ]
  },
  {
   "cell_type": "markdown",
   "metadata": {
    "slideshow": {
     "slide_type": "-"
    }
   },
   "source": [
    "The $(b - d)$ term even has a special name: the *per capita rate of change*. It essentially governs whether the population is increasing or decreasing at any given time, depending on whether the birth or death term dominates. It is typically represented as $r_c = b - d$, so we can rewrite the equation as simply:"
   ]
  },
  {
   "cell_type": "markdown",
   "metadata": {},
   "source": [
    "$\\frac{dn}{dt} = r_c n(t)$"
   ]
  },
  {
   "cell_type": "markdown",
   "metadata": {
    "slideshow": {
     "slide_type": "slide"
    }
   },
   "source": [
    "Now that we've gone through the derivation of the differential equations, how about some nice pretty pictures?"
   ]
  },
  {
   "cell_type": "markdown",
   "metadata": {},
   "source": [
    "<img src=\"Lecture19/growth-exp.png\" width=\"40%\" />"
   ]
  },
  {
   "cell_type": "markdown",
   "metadata": {},
   "source": [
    "Compartment models lend themselves to these sorts of diagrams, which make setting up equations (and, eventually, transition matrices) a lot simpler. "
   ]
  },
  {
   "cell_type": "markdown",
   "metadata": {
    "slideshow": {
     "slide_type": "slide"
    }
   },
   "source": [
    "So we have these equations; how do we run them and obtain some results?"
   ]
  },
  {
   "cell_type": "markdown",
   "metadata": {},
   "source": [
    "Turns out, Python (specifically, SciPy) has a module for solving ordinary differential equations (ODEs)."
   ]
  },
  {
   "cell_type": "code",
   "execution_count": 6,
   "metadata": {
    "collapsed": true,
    "deletable": true,
    "editable": true,
    "slideshow": {
     "slide_type": "-"
    }
   },
   "outputs": [],
   "source": [
    "# Preliminary imports\n",
    "%matplotlib inline\n",
    "import matplotlib.pyplot as plt\n",
    "import numpy as np\n",
    "import scipy.integrate as sig  # Here's the critical module!\n",
    "import seaborn as sns"
   ]
  },
  {
   "cell_type": "markdown",
   "metadata": {
    "slideshow": {
     "slide_type": "slide"
    }
   },
   "source": [
    "Now, let's set an initial population $n_0$, pick a couple of different per capita rates of change $r_c$, and run them to see what happens."
   ]
  },
  {
   "cell_type": "code",
   "execution_count": 10,
   "metadata": {
    "collapsed": true
   },
   "outputs": [],
   "source": [
    "n0 = 10\n",
    "rc1 = 0.01\n",
    "rc2 = 0.1\n",
    "rc3 = -0.2"
   ]
  },
  {
   "cell_type": "markdown",
   "metadata": {},
   "source": [
    "The one critical part of the whole thing: you have to define the differential equations as Python functions, so the SciPy module knows what to solve. Let's do that here:"
   ]
  },
  {
   "cell_type": "code",
   "execution_count": 8,
   "metadata": {
    "collapsed": true
   },
   "outputs": [],
   "source": [
    "# Differential equation functions take two arguments: the variable that's changing, and time.\n",
    "def diffeq(n, t):\n",
    "    return n * rc"
   ]
  },
  {
   "cell_type": "markdown",
   "metadata": {
    "slideshow": {
     "slide_type": "slide"
    }
   },
   "source": [
    "Now, let's create a bunch of time points and evaluate the ODE for different values of `rc`!"
   ]
  },
  {
   "cell_type": "code",
   "execution_count": 11,
   "metadata": {
    "collapsed": false
   },
   "outputs": [
    {
     "name": "stdout",
     "output_type": "stream",
     "text": [
      "Integration successful.\n",
      "Integration successful.\n",
      "Integration successful.\n"
     ]
    },
    {
     "data": {
      "text/plain": [
       "<matplotlib.legend.Legend at 0x11c601c50>"
      ]
     },
     "execution_count": 11,
     "metadata": {},
     "output_type": "execute_result"
    },
    {
     "data": {
      "image/png": "[encoded data removed]",
      "text/plain": [
       "<matplotlib.figure.Figure at 0x11c451358>"
      ]
     },
     "metadata": {},
     "output_type": "display_data"
    }
   ],
   "source": [
    "t = np.linspace(0, 15,  1000)  # time\n",
    "\n",
    "rc = rc1\n",
    "n1, oded = sig.odeint(diffeq, n0, t, full_output = True)\n",
    "print(oded['message'])\n",
    "\n",
    "rc = rc2\n",
    "n2, oded = sig.odeint(diffeq, n0, t, full_output = True)\n",
    "print(oded['message'])\n",
    "\n",
    "rc = rc3\n",
    "n3, oded = sig.odeint(diffeq, n0, t, full_output = True)\n",
    "print(oded['message'])\n",
    "\n",
    "plt.xlabel('time')\n",
    "plt.ylabel('population')\n",
    "plt.title('Exponential Growth')\n",
    "plt.plot(t, n1, label = '$r_c = 0.01$')\n",
    "plt.plot(t, n2, label = '$r_c = 0.5$')\n",
    "plt.plot(t, n3, label = '$r_c = -0.2$')\n",
    "plt.legend(loc = 0)"
   ]
  },
  {
   "cell_type": "markdown",
   "metadata": {
    "slideshow": {
     "slide_type": "slide"
    }
   },
   "source": [
    "**Logistic growth** is a slightly different approach. It takes into account the fact that populations usually can't just keep growing without bound. In fact, their growth rate is directly related to their current size."
   ]
  },
  {
   "cell_type": "markdown",
   "metadata": {},
   "source": [
    "The model looks something like this:"
   ]
  },
  {
   "cell_type": "markdown",
   "metadata": {},
   "source": [
    "<img src=\"Lecture19/growth-log.png\" width=\"40%\" />"
   ]
  },
  {
   "cell_type": "markdown",
   "metadata": {},
   "source": [
    "You still see some of the usual suspects--population $n(t)$ as a function of time, and birth and death rates, but notice the latter two are also now *functions of the current population* instead of simply constants."
   ]
  },
  {
   "cell_type": "markdown",
   "metadata": {
    "slideshow": {
     "slide_type": "slide"
    }
   },
   "source": [
    "To come up with a bounded model of population growth, we need to add a couple of things to our original equation."
   ]
  },
  {
   "cell_type": "markdown",
   "metadata": {},
   "source": [
    "Think of it this way: when the population is *small*, we want it to behave more or less like it did before--exponential growth. But when the population is *large*, we want it slow down or even stop growing."
   ]
  },
  {
   "cell_type": "markdown",
   "metadata": {
    "slideshow": {
     "slide_type": "fragment"
    }
   },
   "source": [
    "$\\frac{dn}{dt} = r_c n(t) (1 - \\frac{n(t)}{K})$"
   ]
  },
  {
   "cell_type": "markdown",
   "metadata": {},
   "source": [
    "Let's look at this more closely:\n",
    " - We still see the same exponential growth equation as before in the first part\n",
    " - There's a second part, though: $(1 - \\frac{n(t)}{K})$\n",
    " - Consider the equation when $n(t)$ is small: the $\\frac{n(t)}{K}$ number is close to 0, which means $1 -$ that number is pretty much 1, so the equation reduces to $r_c n(t)$, exactly what we had before!\n",
    " - When $n(t)$ is large--say, very close to whatever $K$ is--the fraction $\\frac{n(t)}{K}$ is very close to 1, and $1 - 1 = 0$, which sets the entire equation to 0. In other words, growth stops completely!"
   ]
  },
  {
   "cell_type": "markdown",
   "metadata": {
    "slideshow": {
     "slide_type": "slide"
    }
   },
   "source": [
    "So that's cool. Let's plot it out with Python! Remember to first set up the variables and rates:"
   ]
  },
  {
   "cell_type": "code",
   "execution_count": 15,
   "metadata": {
    "collapsed": true
   },
   "outputs": [],
   "source": [
    "# Same as before\n",
    "n0 = 10\n",
    "rc1 = 0.01\n",
    "rc2 = 0.1\n",
    "rc3 = -0.2\n",
    "K = 100    # The new term introduced by this method--known as \"Carrying Capacity\""
   ]
  },
  {
   "cell_type": "markdown",
   "metadata": {},
   "source": [
    "Now we need to write the function that implements the differential equation."
   ]
  },
  {
   "cell_type": "code",
   "execution_count": 16,
   "metadata": {
    "collapsed": true
   },
   "outputs": [],
   "source": [
    "def logistic_growth(n, t):\n",
    "    exp_term = n * rc  # same as before\n",
    "    limit_term = 1 - (n / K)  # the limiting term\n",
    "    return exp_term * limit_term"
   ]
  },
  {
   "cell_type": "markdown",
   "metadata": {
    "slideshow": {
     "slide_type": "slide"
    }
   },
   "source": [
    "Now we simulate it! The only difference is, this time, we feed the function name `logistic_growth` to the `odeint()` solver:"
   ]
  },
  {
   "cell_type": "code",
   "execution_count": 19,
   "metadata": {
    "collapsed": false
   },
   "outputs": [
    {
     "name": "stdout",
     "output_type": "stream",
     "text": [
      "Integration successful.\n",
      "Integration successful.\n",
      "Integration successful.\n"
     ]
    },
    {
     "data": {
      "text/plain": [
       "<matplotlib.legend.Legend at 0x11eb15c88>"
      ]
     },
     "execution_count": 19,
     "metadata": {},
     "output_type": "execute_result"
    },
    {
     "data": {
      "image/png": "[encoded data removed]",
      "text/plain": [
       "<matplotlib.figure.Figure at 0x11e934f98>"
      ]
     },
     "metadata": {},
     "output_type": "display_data"
    }
   ],
   "source": [
    "t = np.linspace(0, 100,  2000)  # time\n",
    "\n",
    "rc = rc1\n",
    "n1, oded = sig.odeint(logistic_growth, n0, t, full_output = True)\n",
    "print(oded['message'])\n",
    "\n",
    "rc = rc2\n",
    "n2, oded = sig.odeint(logistic_growth, n0, t, full_output = True)\n",
    "print(oded['message'])\n",
    "\n",
    "rc = rc3\n",
    "n3, oded = sig.odeint(logistic_growth, n0, t, full_output = True)\n",
    "print(oded['message'])\n",
    "\n",
    "plt.xlabel('time')\n",
    "plt.ylabel('population')\n",
    "plt.title('Logistic Growth with $K = 100$')\n",
    "plt.plot(t, n1, label = '$r_c = 0.01$')\n",
    "plt.plot(t, n2, label = '$r_c = 0.5$')\n",
    "plt.plot(t, n3, label = '$r_c = -0.2$')\n",
    "plt.legend(loc = 0)"
   ]
  },
  {
   "cell_type": "markdown",
   "metadata": {
    "slideshow": {
     "slide_type": "slide"
    }
   },
   "source": [
    "### Models of Competition"
   ]
  },
  {
   "cell_type": "markdown",
   "metadata": {},
   "source": [
    "The population growth models we looked at are great, but they're unrealistic for many reasons, not the least of which is: populations don't exist in a vacuum!"
   ]
  },
  {
   "cell_type": "markdown",
   "metadata": {},
   "source": [
    "Populations have to coexist with restrictions such as food, water, resources, mating and fertility rates, environmental factors, and numerous others."
   ]
  },
  {
   "cell_type": "markdown",
   "metadata": {
    "slideshow": {
     "slide_type": "slide"
    }
   },
   "source": [
    "**Lotka-Volterra models** build on the idea of logistic population growth, but with the added constraint of an additional population species that specifically preys on the other."
   ]
  },
  {
   "cell_type": "markdown",
   "metadata": {},
   "source": [
    "Consider a model of 2 species with the following parameters:"
   ]
  },
  {
   "cell_type": "markdown",
   "metadata": {},
   "source": [
    " - Populations $n_1$ and $n_2$"
   ]
  },
  {
   "cell_type": "markdown",
   "metadata": {},
   "source": [
    " - Intrinsic growth rates $r_1$ and $r_2$"
   ]
  },
  {
   "cell_type": "markdown",
   "metadata": {},
   "source": [
    " - Carrying capacities $K_1$ and $K_2$"
   ]
  },
  {
   "cell_type": "markdown",
   "metadata": {
    "slideshow": {
     "slide_type": "slide"
    }
   },
   "source": [
    "**Assumptions**\n",
    "\n",
    "(always important to list these out!)"
   ]
  },
  {
   "cell_type": "markdown",
   "metadata": {
    "slideshow": {
     "slide_type": "fragment"
    }
   },
   "source": [
    " - The prey population finds ample food at all times, whereas the predator population's food depends solely on the prey population"
   ]
  },
  {
   "cell_type": "markdown",
   "metadata": {},
   "source": [
    " - Related: the predator has an unlimited appetite (i.e. the amount of food consumed by predators is dependent only on the population size of the prey)"
   ]
  },
  {
   "cell_type": "markdown",
   "metadata": {},
   "source": [
    " - The rate of change in both populations is a function of the sizes of the populations"
   ]
  },
  {
   "cell_type": "markdown",
   "metadata": {},
   "source": [
    " - The environment the two populations reside in doesn't change, and genetics / adaptation don't play a role"
   ]
  },
  {
   "cell_type": "markdown",
   "metadata": {
    "slideshow": {
     "slide_type": "slide"
    }
   },
   "source": [
    "How do we set up the competing differential equations?"
   ]
  },
  {
   "cell_type": "markdown",
   "metadata": {
    "slideshow": {
     "slide_type": "fragment"
    }
   },
   "source": [
    "Start with the exponential growth from before!"
   ]
  },
  {
   "cell_type": "markdown",
   "metadata": {},
   "source": [
    "**Prey growth:** $\\frac{dx}{dt} = \\alpha x$"
   ]
  },
  {
   "cell_type": "markdown",
   "metadata": {},
   "source": [
    "But we want to include a negative dependence on the predator population, too.\n",
    "\n",
    " - This negative dependence has its own rate, $\\beta$.\n",
    " - Predation rate is not only dependent on the predator population $y$, but also the prey population $x$.\n",
    " - **So the negative term is composed of three elements**."
   ]
  },
  {
   "cell_type": "markdown",
   "metadata": {
    "slideshow": {
     "slide_type": "fragment"
    }
   },
   "source": [
    "**Prey:** $\\frac{dx}{dt} = \\alpha x - \\beta x y$"
   ]
  },
  {
   "cell_type": "markdown",
   "metadata": {
    "slideshow": {
     "slide_type": "slide"
    }
   },
   "source": [
    "How about the predator equations?"
   ]
  },
  {
   "cell_type": "markdown",
   "metadata": {},
   "source": [
    "(Hint: the part of the prey equation that kills off prey is what contributes to predator growth)"
   ]
  },
  {
   "cell_type": "markdown",
   "metadata": {
    "slideshow": {
     "slide_type": "fragment"
    }
   },
   "source": [
    "**Predator growth:** $\\frac{dy}{dt} = \\gamma x y$"
   ]
  },
  {
   "cell_type": "markdown",
   "metadata": {},
   "source": [
    "That's the growth term for predators. How about its own negative term?"
   ]
  },
  {
   "cell_type": "markdown",
   "metadata": {
    "slideshow": {
     "slide_type": "fragment"
    }
   },
   "source": [
    "**Predator:** $\\frac{dy}{dt} = \\gamma x y - \\delta y$"
   ]
  },
  {
   "cell_type": "markdown",
   "metadata": {
    "slideshow": {
     "slide_type": "slide"
    }
   },
   "source": [
    "Let's model these equations in Python!"
   ]
  },
  {
   "cell_type": "markdown",
   "metadata": {
    "slideshow": {
     "slide_type": "fragment"
    }
   },
   "source": [
    "First, we have parameter values we need to set up:"
   ]
  },
  {
   "cell_type": "code",
   "execution_count": 2,
   "metadata": {
    "collapsed": true,
    "slideshow": {
     "slide_type": "-"
    }
   },
   "outputs": [],
   "source": [
    "a = 1.0   # prey growth rate\n",
    "b = 0.1   # predation rate (prey death rate)\n",
    "c = 0.075 # predator growth rate\n",
    "d = 1.0   # predator death rate"
   ]
  },
  {
   "cell_type": "markdown",
   "metadata": {
    "slideshow": {
     "slide_type": "fragment"
    }
   },
   "source": [
    "Next, we need to code up one step of the differential equation, in the form of a Python function:"
   ]
  },
  {
   "cell_type": "code",
   "execution_count": 3,
   "metadata": {
    "collapsed": true
   },
   "outputs": [],
   "source": [
    "def pred_prey(X, t):\n",
    "    # Remember: X is a two-element NumPy array\n",
    "    ax = a * X[0]\n",
    "    bxy = b * X[0] * X[1]\n",
    "    cxy = c * X[0] * X[1]\n",
    "    dy = d * X[1]\n",
    "    \n",
    "    # Return value is also a two-element array\n",
    "    retval = np.array([ax - bxy, cxy - dy])\n",
    "    return retval"
   ]
  },
  {
   "cell_type": "markdown",
   "metadata": {
    "slideshow": {
     "slide_type": "slide"
    }
   },
   "source": [
    "How does it look?"
   ]
  },
  {
   "cell_type": "code",
   "execution_count": 4,
   "metadata": {
    "collapsed": false,
    "slideshow": {
     "slide_type": "fragment"
    }
   },
   "outputs": [
    {
     "name": "stdout",
     "output_type": "stream",
     "text": [
      "Integration successful.\n"
     ]
    }
   ],
   "source": [
    "t = np.linspace(0, 15,  1000)  # time\n",
    "X0 = np.array([10, 5])         # initials conditions: 10 prey, 5 predators\n",
    "X, oded = sig.odeint(pred_prey, X0, t, full_output = True)\n",
    "print(oded['message'])"
   ]
  },
  {
   "cell_type": "code",
   "execution_count": 5,
   "metadata": {
    "collapsed": false
   },
   "outputs": [
    {
     "data": {
      "text/plain": [
       "<matplotlib.legend.Legend at 0x11c1c9d68>"
      ]
     },
     "execution_count": 5,
     "metadata": {},
     "output_type": "execute_result"
    },
    {
     "data": {
      "image/png": "[encoded data removed]",
      "text/plain": [
       "<matplotlib.figure.Figure at 0x11c1da080>"
      ]
     },
     "metadata": {},
     "output_type": "display_data"
    }
   ],
   "source": [
    "prey, pred = X.T\n",
    "\n",
    "plt.xlabel('time')\n",
    "plt.ylabel('population')\n",
    "plt.title('Lotka-Volterra Model')\n",
    "plt.plot(t, prey, 'r-', label = 'Prey')\n",
    "plt.plot(t, pred  , 'b-', label = 'Predators')\n",
    "plt.legend(loc = 0)"
   ]
  },
  {
   "cell_type": "markdown",
   "metadata": {
    "slideshow": {
     "slide_type": "slide"
    }
   },
   "source": [
    "### Epidemiological Models"
   ]
  },
  {
   "cell_type": "markdown",
   "metadata": {},
   "source": [
    "There is an entire class of compartment models dedicated to capturing the characteristics of epidemiological systems, the most popular of which is easily the *SIR model*."
   ]
  },
  {
   "cell_type": "markdown",
   "metadata": {
    "slideshow": {
     "slide_type": "slide"
    }
   },
   "source": [
    "**SIR models**, or *Susceptible-Infected-Recovered* models, represent three distinct populations and how people move from one of these populations to another in response to infectious diseases."
   ]
  },
  {
   "cell_type": "markdown",
   "metadata": {},
   "source": [
    "<img src=\"Lecture19/sir-overview.png\" width=\"50%\" />"
   ]
  },
  {
   "cell_type": "markdown",
   "metadata": {
    "slideshow": {
     "slide_type": "slide"
    }
   },
   "source": [
    "Let's create a diagram of the process, just as before, showing the relevant variables, parameters, constraints, and interactions between variables."
   ]
  },
  {
   "cell_type": "markdown",
   "metadata": {
    "slideshow": {
     "slide_type": "-"
    }
   },
   "source": [
    "To start, we need to list out our background knowledge of the problem, encoded as assumptions:"
   ]
  },
  {
   "cell_type": "markdown",
   "metadata": {},
   "source": [
    " - Infection can be transmitted from infected to susceptible individuals\n",
    " - Recovered individuals become immune for a period of time\n",
    " - Probability of death is increased in infected patients"
   ]
  },
  {
   "cell_type": "markdown",
   "metadata": {
    "slideshow": {
     "slide_type": "fragment"
    }
   },
   "source": [
    "Can we sketch out the diagram?"
   ]
  },
  {
   "cell_type": "markdown",
   "metadata": {
    "slideshow": {
     "slide_type": "slide"
    }
   },
   "source": [
    "<img src=\"Lecture19/sir-diagram.png\" width=\"70%\" />"
   ]
  },
  {
   "cell_type": "markdown",
   "metadata": {
    "slideshow": {
     "slide_type": "slide"
    }
   },
   "source": [
    "Next step: convert the diagram into equations or rules (we've used differential equations so far), one for each population."
   ]
  },
  {
   "cell_type": "markdown",
   "metadata": {
    "slideshow": {
     "slide_type": "fragment"
    }
   },
   "source": [
    "Susceptible population:\n",
    "\n",
    "$\\frac{dS}{dt} = \\theta + \\sigma R(t) - \\beta S(t) I(t) - \\sigma S(t)$"
   ]
  },
  {
   "cell_type": "markdown",
   "metadata": {
    "slideshow": {
     "slide_type": "fragment"
    }
   },
   "source": [
    "Infected population:\n",
    "\n",
    "$\\frac{dI}{dt} = \\beta S(t) I(t) - \\rho I(t) - \\delta I(t)$"
   ]
  },
  {
   "cell_type": "markdown",
   "metadata": {
    "slideshow": {
     "slide_type": "fragment"
    }
   },
   "source": [
    "Recovered population:\n",
    "\n",
    "$\\frac{dR}{dt} = \\rho I(t) - \\sigma R(t) - \\mu R(t)$"
   ]
  },
  {
   "cell_type": "markdown",
   "metadata": {
    "slideshow": {
     "slide_type": "slide"
    }
   },
   "source": [
    "**Aside**\n",
    "\n",
    "We're leaving out for the moment how exactly to come up with values for all these parameters; it's more obvious with SIR parameters, since there are a ton of them."
   ]
  },
  {
   "cell_type": "markdown",
   "metadata": {},
   "source": [
    "Research papers using the model will detail out the values used and how they were determined (often through simulation or experiment)."
   ]
  },
  {
   "cell_type": "markdown",
   "metadata": {
    "slideshow": {
     "slide_type": "slide"
    }
   },
   "source": [
    "Let's see if we can simulate this model!"
   ]
  },
  {
   "cell_type": "code",
   "execution_count": 32,
   "metadata": {
    "collapsed": true
   },
   "outputs": [],
   "source": [
    "beta = 0.3   # infection rate\n",
    "theta = 10.0 # birth rate\n",
    "sigma = 0.5  # de-immunization rate\n",
    "rho = 0.9    # recovery rate\n",
    "delta = 0.5  # death rate from infection\n",
    "mu = 0.05    # death rate from susceptibility or recovery\n",
    "\n",
    "# Initial populations.\n",
    "S0 = 100\n",
    "I0 = 5\n",
    "R0 = 0\n",
    "\n",
    "X0 = np.array([S0, I0, R0])"
   ]
  },
  {
   "cell_type": "markdown",
   "metadata": {
    "slideshow": {
     "slide_type": "slide"
    }
   },
   "source": [
    "Now we need to code up the differential equations in terms of Python functions."
   ]
  },
  {
   "cell_type": "code",
   "execution_count": 33,
   "metadata": {
    "collapsed": true,
    "slideshow": {
     "slide_type": "fragment"
    }
   },
   "outputs": [],
   "source": [
    "def diff_sir(X, t):\n",
    "    s = X[0]\n",
    "    i = X[1]\n",
    "    r = X[2]\n",
    "    \n",
    "    # Now, compute each equation.\n",
    "    ds = theta + (sigma * r) - (beta * s * i) - (mu * s)\n",
    "    di = (beta * s * i) - (rho * i) - (delta * i)\n",
    "    dr = (rho * i) - (sigma * r) - (mu * r)\n",
    "\n",
    "    # Return the numbers as an array, in the same order as the input.\n",
    "    return np.array([ds, di, dr])"
   ]
  },
  {
   "cell_type": "markdown",
   "metadata": {
    "slideshow": {
     "slide_type": "slide"
    }
   },
   "source": [
    "Finally, we'll solve the equation."
   ]
  },
  {
   "cell_type": "code",
   "execution_count": 38,
   "metadata": {
    "collapsed": false
   },
   "outputs": [
    {
     "name": "stdout",
     "output_type": "stream",
     "text": [
      "Integration successful.\n"
     ]
    },
    {
     "data": {
      "text/plain": [
       "<matplotlib.legend.Legend at 0x11f7ddcf8>"
      ]
     },
     "execution_count": 38,
     "metadata": {},
     "output_type": "execute_result"
    },
    {
     "data": {
      "image/png": "[encoded data removed]",
      "text/plain": [
       "<matplotlib.figure.Figure at 0x11f6049e8>"
      ]
     },
     "metadata": {},
     "output_type": "display_data"
    }
   ],
   "source": [
    "t = np.linspace(0, 50,  1000)  # time\n",
    "Y, oded = sig.odeint(diff_sir, X0, t, full_output = True)\n",
    "print(oded['message'])\n",
    "\n",
    "S, I, R = Y.T\n",
    "\n",
    "plt.xlabel('time')\n",
    "plt.ylabel('population')\n",
    "plt.title('SIR Model')\n",
    "plt.plot(t, S, 'b-', label = 'S')\n",
    "plt.plot(t, I, 'r-', label = 'I')\n",
    "plt.plot(t, R, 'g-', label = 'R')\n",
    "plt.legend(loc = 0)"
   ]
  },
  {
   "cell_type": "markdown",
   "metadata": {
    "slideshow": {
     "slide_type": "fragment"
    }
   },
   "source": [
    "This could be used to predict, for example, the peak of an upcoming influenza season."
   ]
  },
  {
   "cell_type": "markdown",
   "metadata": {
    "slideshow": {
     "slide_type": "slide"
    }
   },
   "source": [
    "### Compartment Models Summary"
   ]
  },
  {
   "cell_type": "markdown",
   "metadata": {
    "slideshow": {
     "slide_type": "-"
    }
   },
   "source": [
    "The models we've looked at so far (population, competition, epidemiological) are"
   ]
  },
  {
   "cell_type": "markdown",
   "metadata": {
    "slideshow": {
     "slide_type": "fragment"
    }
   },
   "source": [
    " - Deterministic"
   ]
  },
  {
   "cell_type": "markdown",
   "metadata": {},
   "source": [
    " - Temporal (definitely *not* spatial)"
   ]
  },
  {
   "cell_type": "markdown",
   "metadata": {},
   "source": [
    " - Grounded by very strong assumptions"
   ]
  },
  {
   "cell_type": "markdown",
   "metadata": {},
   "source": [
    " - **Flexible**"
   ]
  },
  {
   "cell_type": "markdown",
   "metadata": {
    "slideshow": {
     "slide_type": "fragment"
    }
   },
   "source": [
    "Possible extensions include:"
   ]
  },
  {
   "cell_type": "markdown",
   "metadata": {},
   "source": [
    " - Additional species/populations and dependencies between them"
   ]
  },
  {
   "cell_type": "markdown",
   "metadata": {},
   "source": [
    " - Environmental, genetic, and/or spatial components"
   ]
  },
  {
   "cell_type": "markdown",
   "metadata": {},
   "source": [
    " - Analysis of the phase plane to determine steady states in the models"
   ]
  },
  {
   "cell_type": "markdown",
   "metadata": {},
   "source": [
    " - ???"
   ]
  },
  {
   "cell_type": "markdown",
   "metadata": {
    "slideshow": {
     "slide_type": "slide"
    }
   },
   "source": [
    "General strategy for building compartment models:\n",
    "\n",
    "<img src=\"Lecture19/model-of-making-models.png\" width=\"80%\" />"
   ]
  },
  {
   "cell_type": "markdown",
   "metadata": {
    "deletable": true,
    "editable": true,
    "slideshow": {
     "slide_type": "slide"
    }
   },
   "source": [
    "## Administrivia"
   ]
  },
  {
   "cell_type": "markdown",
   "metadata": {
    "deletable": true,
    "editable": true,
    "slideshow": {
     "slide_type": "-"
    }
   },
   "source": [
    " - Assignment 4 won't be out until next week... hopefully."
   ]
  },
  {
   "cell_type": "markdown",
   "metadata": {
    "deletable": true,
    "editable": true
   },
   "source": [
    " - Concerns with grades? Don't be--lots of time left (including the final project)"
   ]
  },
  {
   "cell_type": "markdown",
   "metadata": {
    "slideshow": {
     "slide_type": "-"
    }
   },
   "source": [
    " - Next week: leaving modeling behind (kind of) and moving into structural analysis!"
   ]
  },
  {
   "cell_type": "markdown",
   "metadata": {
    "deletable": true,
    "editable": true,
    "slideshow": {
     "slide_type": "slide"
    }
   },
   "source": [
    "## Additional Resources\n",
    "\n"
   ]
  },
  {
   "cell_type": "markdown",
   "metadata": {},
   "source": [
    " - SciPy ODE integration documents https://docs.scipy.org/doc/scipy/reference/generated/scipy.integrate.odeint.html\n",
    " - Lotka-Volterra Python tutorial http://scipy-cookbook.readthedocs.io/items/LoktaVolterraTutorial.html "
   ]
  }
 ],
 "metadata": {
  "anaconda-cloud": {},
  "celltoolbar": "Slideshow",
  "kernelspec": {
   "display_name": "Python 3",
   "language": "python",
   "name": "python3"
  },
  "language_info": {
   "codemirror_mode": {
    "name": "ipython",
    "version": 3
   },
   "file_extension": ".py",
   "mimetype": "text/x-python",
   "name": "python",
   "nbconvert_exporter": "python",
   "pygments_lexer": "ipython3",
   "version": "3.5.3"
  }
 },
 "nbformat": 4,
 "nbformat_minor": 0
}
